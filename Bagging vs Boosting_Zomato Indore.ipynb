{
 "cells": [
  {
   "cell_type": "code",
   "execution_count": 1,
   "metadata": {},
   "outputs": [],
   "source": [
    "#import the libraries\n",
    "\n",
    "import numpy as np\n",
    "import pandas as pd\n",
    "import sklearn  #..we do the data preprocessing"
   ]
  },
  {
   "cell_type": "code",
   "execution_count": 2,
   "metadata": {},
   "outputs": [],
   "source": [
    "# import the dataset\n",
    "\n",
    "data = pd.read_csv('C:\\\\Users\\\\MUJTABA\\\\Documents\\\\_MY_PRECIOUS\\\\TU\\\\Studies\\\\2nd year\\\\3rd sem\\\\AI\\\\project\\\\zomato_indore.csv')"
   ]
  },
  {
   "cell_type": "code",
   "execution_count": 3,
   "metadata": {},
   "outputs": [
    {
     "data": {
      "text/html": [
       "<div>\n",
       "<style scoped>\n",
       "    .dataframe tbody tr th:only-of-type {\n",
       "        vertical-align: middle;\n",
       "    }\n",
       "\n",
       "    .dataframe tbody tr th {\n",
       "        vertical-align: top;\n",
       "    }\n",
       "\n",
       "    .dataframe thead th {\n",
       "        text-align: right;\n",
       "    }\n",
       "</style>\n",
       "<table border=\"1\" class=\"dataframe\">\n",
       "  <thead>\n",
       "    <tr style=\"text-align: right;\">\n",
       "      <th></th>\n",
       "      <th>Unnamed: 0</th>\n",
       "      <th>name</th>\n",
       "      <th>locality</th>\n",
       "      <th>latitude</th>\n",
       "      <th>longitude</th>\n",
       "      <th>cuisines</th>\n",
       "      <th>average_cost_for_two</th>\n",
       "      <th>aggregate_rating</th>\n",
       "      <th>votes</th>\n",
       "      <th>rating_text</th>\n",
       "    </tr>\n",
       "  </thead>\n",
       "  <tbody>\n",
       "    <tr>\n",
       "      <th>0</th>\n",
       "      <td>0</td>\n",
       "      <td>Namo Sandwich</td>\n",
       "      <td>Sudama Nagar</td>\n",
       "      <td>22.696331</td>\n",
       "      <td>75.834857</td>\n",
       "      <td>Fast Food</td>\n",
       "      <td>500</td>\n",
       "      <td>4.3</td>\n",
       "      <td>860</td>\n",
       "      <td>Very Good</td>\n",
       "    </tr>\n",
       "    <tr>\n",
       "      <th>1</th>\n",
       "      <td>1</td>\n",
       "      <td>Bake N Shake</td>\n",
       "      <td>BCM Heights, Vijay Nagar</td>\n",
       "      <td>22.755705</td>\n",
       "      <td>75.895287</td>\n",
       "      <td>Cafe, Fast Food, Bakery</td>\n",
       "      <td>500</td>\n",
       "      <td>4.2</td>\n",
       "      <td>683</td>\n",
       "      <td>Very Good</td>\n",
       "    </tr>\n",
       "    <tr>\n",
       "      <th>2</th>\n",
       "      <td>2</td>\n",
       "      <td>Shree Gurukripa</td>\n",
       "      <td>Sarwate Bus Stand</td>\n",
       "      <td>22.714090</td>\n",
       "      <td>75.868851</td>\n",
       "      <td>North Indian</td>\n",
       "      <td>350</td>\n",
       "      <td>4.3</td>\n",
       "      <td>2030</td>\n",
       "      <td>Very Good</td>\n",
       "    </tr>\n",
       "    <tr>\n",
       "      <th>3</th>\n",
       "      <td>3</td>\n",
       "      <td>Nafees Restaurant</td>\n",
       "      <td>Old Palasia</td>\n",
       "      <td>22.725712</td>\n",
       "      <td>75.887757</td>\n",
       "      <td>North Indian, Mughlai</td>\n",
       "      <td>800</td>\n",
       "      <td>4.3</td>\n",
       "      <td>2987</td>\n",
       "      <td>Very Good</td>\n",
       "    </tr>\n",
       "    <tr>\n",
       "      <th>4</th>\n",
       "      <td>4</td>\n",
       "      <td>Hotel Guru Kripa</td>\n",
       "      <td>Sarwate Bus Stand</td>\n",
       "      <td>22.714086</td>\n",
       "      <td>75.868846</td>\n",
       "      <td>North Indian</td>\n",
       "      <td>350</td>\n",
       "      <td>4.3</td>\n",
       "      <td>3441</td>\n",
       "      <td>Very Good</td>\n",
       "    </tr>\n",
       "  </tbody>\n",
       "</table>\n",
       "</div>"
      ],
      "text/plain": [
       "   Unnamed: 0               name                  locality   latitude  \\\n",
       "0           0      Namo Sandwich              Sudama Nagar  22.696331   \n",
       "1           1       Bake N Shake  BCM Heights, Vijay Nagar  22.755705   \n",
       "2           2    Shree Gurukripa         Sarwate Bus Stand  22.714090   \n",
       "3           3  Nafees Restaurant               Old Palasia  22.725712   \n",
       "4           4   Hotel Guru Kripa         Sarwate Bus Stand  22.714086   \n",
       "\n",
       "   longitude                 cuisines  average_cost_for_two  aggregate_rating  \\\n",
       "0  75.834857                Fast Food                   500               4.3   \n",
       "1  75.895287  Cafe, Fast Food, Bakery                   500               4.2   \n",
       "2  75.868851             North Indian                   350               4.3   \n",
       "3  75.887757    North Indian, Mughlai                   800               4.3   \n",
       "4  75.868846             North Indian                   350               4.3   \n",
       "\n",
       "   votes rating_text  \n",
       "0    860   Very Good  \n",
       "1    683   Very Good  \n",
       "2   2030   Very Good  \n",
       "3   2987   Very Good  \n",
       "4   3441   Very Good  "
      ]
     },
     "execution_count": 3,
     "metadata": {},
     "output_type": "execute_result"
    }
   ],
   "source": [
    "data.head()  #check the first 5 rows of the dataset."
   ]
  },
  {
   "cell_type": "code",
   "execution_count": 4,
   "metadata": {},
   "outputs": [
    {
     "data": {
      "text/plain": [
       "pandas.core.frame.DataFrame"
      ]
     },
     "execution_count": 4,
     "metadata": {},
     "output_type": "execute_result"
    }
   ],
   "source": [
    "type(data) #check the datatype of dataset"
   ]
  },
  {
   "cell_type": "code",
   "execution_count": 5,
   "metadata": {},
   "outputs": [
    {
     "data": {
      "text/plain": [
       "(2851, 10)"
      ]
     },
     "execution_count": 5,
     "metadata": {},
     "output_type": "execute_result"
    }
   ],
   "source": [
    "data.shape # show rows and columns of dataset."
   ]
  },
  {
   "cell_type": "code",
   "execution_count": 6,
   "metadata": {},
   "outputs": [
    {
     "data": {
      "text/html": [
       "<div>\n",
       "<style scoped>\n",
       "    .dataframe tbody tr th:only-of-type {\n",
       "        vertical-align: middle;\n",
       "    }\n",
       "\n",
       "    .dataframe tbody tr th {\n",
       "        vertical-align: top;\n",
       "    }\n",
       "\n",
       "    .dataframe thead th {\n",
       "        text-align: right;\n",
       "    }\n",
       "</style>\n",
       "<table border=\"1\" class=\"dataframe\">\n",
       "  <thead>\n",
       "    <tr style=\"text-align: right;\">\n",
       "      <th></th>\n",
       "      <th>Unnamed: 0</th>\n",
       "      <th>latitude</th>\n",
       "      <th>longitude</th>\n",
       "      <th>average_cost_for_two</th>\n",
       "      <th>aggregate_rating</th>\n",
       "      <th>votes</th>\n",
       "    </tr>\n",
       "  </thead>\n",
       "  <tbody>\n",
       "    <tr>\n",
       "      <th>count</th>\n",
       "      <td>2851.000000</td>\n",
       "      <td>2851.000000</td>\n",
       "      <td>2851.000000</td>\n",
       "      <td>2851.000000</td>\n",
       "      <td>2851.000000</td>\n",
       "      <td>2851.000000</td>\n",
       "    </tr>\n",
       "    <tr>\n",
       "      <th>mean</th>\n",
       "      <td>1491.662224</td>\n",
       "      <td>22.725029</td>\n",
       "      <td>75.878998</td>\n",
       "      <td>655.866363</td>\n",
       "      <td>3.887759</td>\n",
       "      <td>512.119256</td>\n",
       "    </tr>\n",
       "    <tr>\n",
       "      <th>std</th>\n",
       "      <td>862.490509</td>\n",
       "      <td>0.029429</td>\n",
       "      <td>0.029798</td>\n",
       "      <td>478.290545</td>\n",
       "      <td>0.518230</td>\n",
       "      <td>547.966306</td>\n",
       "    </tr>\n",
       "    <tr>\n",
       "      <th>min</th>\n",
       "      <td>0.000000</td>\n",
       "      <td>22.598015</td>\n",
       "      <td>75.000000</td>\n",
       "      <td>50.000000</td>\n",
       "      <td>2.100000</td>\n",
       "      <td>4.000000</td>\n",
       "    </tr>\n",
       "    <tr>\n",
       "      <th>25%</th>\n",
       "      <td>731.500000</td>\n",
       "      <td>22.713932</td>\n",
       "      <td>75.868587</td>\n",
       "      <td>300.000000</td>\n",
       "      <td>3.600000</td>\n",
       "      <td>99.500000</td>\n",
       "    </tr>\n",
       "    <tr>\n",
       "      <th>50%</th>\n",
       "      <td>1531.000000</td>\n",
       "      <td>22.725682</td>\n",
       "      <td>75.885655</td>\n",
       "      <td>500.000000</td>\n",
       "      <td>4.000000</td>\n",
       "      <td>412.000000</td>\n",
       "    </tr>\n",
       "    <tr>\n",
       "      <th>75%</th>\n",
       "      <td>2243.500000</td>\n",
       "      <td>22.750034</td>\n",
       "      <td>75.894870</td>\n",
       "      <td>800.000000</td>\n",
       "      <td>4.300000</td>\n",
       "      <td>692.000000</td>\n",
       "    </tr>\n",
       "    <tr>\n",
       "      <th>max</th>\n",
       "      <td>2957.000000</td>\n",
       "      <td>22.801616</td>\n",
       "      <td>75.938489</td>\n",
       "      <td>2600.000000</td>\n",
       "      <td>4.900000</td>\n",
       "      <td>3441.000000</td>\n",
       "    </tr>\n",
       "  </tbody>\n",
       "</table>\n",
       "</div>"
      ],
      "text/plain": [
       "        Unnamed: 0     latitude    longitude  average_cost_for_two  \\\n",
       "count  2851.000000  2851.000000  2851.000000           2851.000000   \n",
       "mean   1491.662224    22.725029    75.878998            655.866363   \n",
       "std     862.490509     0.029429     0.029798            478.290545   \n",
       "min       0.000000    22.598015    75.000000             50.000000   \n",
       "25%     731.500000    22.713932    75.868587            300.000000   \n",
       "50%    1531.000000    22.725682    75.885655            500.000000   \n",
       "75%    2243.500000    22.750034    75.894870            800.000000   \n",
       "max    2957.000000    22.801616    75.938489           2600.000000   \n",
       "\n",
       "       aggregate_rating        votes  \n",
       "count       2851.000000  2851.000000  \n",
       "mean           3.887759   512.119256  \n",
       "std            0.518230   547.966306  \n",
       "min            2.100000     4.000000  \n",
       "25%            3.600000    99.500000  \n",
       "50%            4.000000   412.000000  \n",
       "75%            4.300000   692.000000  \n",
       "max            4.900000  3441.000000  "
      ]
     },
     "execution_count": 6,
     "metadata": {},
     "output_type": "execute_result"
    }
   ],
   "source": [
    "data.describe()"
   ]
  },
  {
   "cell_type": "code",
   "execution_count": 7,
   "metadata": {},
   "outputs": [
    {
     "data": {
      "text/plain": [
       "Index(['Unnamed: 0', 'name', 'locality', 'latitude', 'longitude', 'cuisines',\n",
       "       'average_cost_for_two', 'aggregate_rating', 'votes', 'rating_text'],\n",
       "      dtype='object')"
      ]
     },
     "execution_count": 7,
     "metadata": {},
     "output_type": "execute_result"
    }
   ],
   "source": [
    "data.columns"
   ]
  },
  {
   "cell_type": "code",
   "execution_count": 8,
   "metadata": {},
   "outputs": [],
   "source": [
    "data_new = data[['locality','latitude','longitude','cuisines','average_cost_for_two','aggregate_rating','votes']]"
   ]
  },
  {
   "cell_type": "code",
   "execution_count": 9,
   "metadata": {},
   "outputs": [
    {
     "data": {
      "text/html": [
       "<div>\n",
       "<style scoped>\n",
       "    .dataframe tbody tr th:only-of-type {\n",
       "        vertical-align: middle;\n",
       "    }\n",
       "\n",
       "    .dataframe tbody tr th {\n",
       "        vertical-align: top;\n",
       "    }\n",
       "\n",
       "    .dataframe thead th {\n",
       "        text-align: right;\n",
       "    }\n",
       "</style>\n",
       "<table border=\"1\" class=\"dataframe\">\n",
       "  <thead>\n",
       "    <tr style=\"text-align: right;\">\n",
       "      <th></th>\n",
       "      <th>locality</th>\n",
       "      <th>latitude</th>\n",
       "      <th>longitude</th>\n",
       "      <th>cuisines</th>\n",
       "      <th>average_cost_for_two</th>\n",
       "      <th>aggregate_rating</th>\n",
       "      <th>votes</th>\n",
       "    </tr>\n",
       "  </thead>\n",
       "  <tbody>\n",
       "    <tr>\n",
       "      <th>0</th>\n",
       "      <td>Sudama Nagar</td>\n",
       "      <td>22.696331</td>\n",
       "      <td>75.834857</td>\n",
       "      <td>Fast Food</td>\n",
       "      <td>500</td>\n",
       "      <td>4.3</td>\n",
       "      <td>860</td>\n",
       "    </tr>\n",
       "    <tr>\n",
       "      <th>1</th>\n",
       "      <td>BCM Heights, Vijay Nagar</td>\n",
       "      <td>22.755705</td>\n",
       "      <td>75.895287</td>\n",
       "      <td>Cafe, Fast Food, Bakery</td>\n",
       "      <td>500</td>\n",
       "      <td>4.2</td>\n",
       "      <td>683</td>\n",
       "    </tr>\n",
       "    <tr>\n",
       "      <th>2</th>\n",
       "      <td>Sarwate Bus Stand</td>\n",
       "      <td>22.714090</td>\n",
       "      <td>75.868851</td>\n",
       "      <td>North Indian</td>\n",
       "      <td>350</td>\n",
       "      <td>4.3</td>\n",
       "      <td>2030</td>\n",
       "    </tr>\n",
       "    <tr>\n",
       "      <th>3</th>\n",
       "      <td>Old Palasia</td>\n",
       "      <td>22.725712</td>\n",
       "      <td>75.887757</td>\n",
       "      <td>North Indian, Mughlai</td>\n",
       "      <td>800</td>\n",
       "      <td>4.3</td>\n",
       "      <td>2987</td>\n",
       "    </tr>\n",
       "    <tr>\n",
       "      <th>4</th>\n",
       "      <td>Sarwate Bus Stand</td>\n",
       "      <td>22.714086</td>\n",
       "      <td>75.868846</td>\n",
       "      <td>North Indian</td>\n",
       "      <td>350</td>\n",
       "      <td>4.3</td>\n",
       "      <td>3441</td>\n",
       "    </tr>\n",
       "  </tbody>\n",
       "</table>\n",
       "</div>"
      ],
      "text/plain": [
       "                   locality   latitude  longitude                 cuisines  \\\n",
       "0              Sudama Nagar  22.696331  75.834857                Fast Food   \n",
       "1  BCM Heights, Vijay Nagar  22.755705  75.895287  Cafe, Fast Food, Bakery   \n",
       "2         Sarwate Bus Stand  22.714090  75.868851             North Indian   \n",
       "3               Old Palasia  22.725712  75.887757    North Indian, Mughlai   \n",
       "4         Sarwate Bus Stand  22.714086  75.868846             North Indian   \n",
       "\n",
       "   average_cost_for_two  aggregate_rating  votes  \n",
       "0                   500               4.3    860  \n",
       "1                   500               4.2    683  \n",
       "2                   350               4.3   2030  \n",
       "3                   800               4.3   2987  \n",
       "4                   350               4.3   3441  "
      ]
     },
     "execution_count": 9,
     "metadata": {},
     "output_type": "execute_result"
    }
   ],
   "source": [
    "data_new.head()"
   ]
  },
  {
   "cell_type": "code",
   "execution_count": 10,
   "metadata": {},
   "outputs": [],
   "source": [
    "#since our dependent column is in penultimate(2nd-last) position, we have to move it to one of the extreme position\n",
    "\n",
    "temp = data_new.pop('aggregate_rating')\n",
    "data_new.insert(len(data_new.columns),'rating_new', temp)"
   ]
  },
  {
   "cell_type": "code",
   "execution_count": 11,
   "metadata": {},
   "outputs": [
    {
     "data": {
      "text/html": [
       "<div>\n",
       "<style scoped>\n",
       "    .dataframe tbody tr th:only-of-type {\n",
       "        vertical-align: middle;\n",
       "    }\n",
       "\n",
       "    .dataframe tbody tr th {\n",
       "        vertical-align: top;\n",
       "    }\n",
       "\n",
       "    .dataframe thead th {\n",
       "        text-align: right;\n",
       "    }\n",
       "</style>\n",
       "<table border=\"1\" class=\"dataframe\">\n",
       "  <thead>\n",
       "    <tr style=\"text-align: right;\">\n",
       "      <th></th>\n",
       "      <th>locality</th>\n",
       "      <th>latitude</th>\n",
       "      <th>longitude</th>\n",
       "      <th>cuisines</th>\n",
       "      <th>average_cost_for_two</th>\n",
       "      <th>votes</th>\n",
       "      <th>rating_new</th>\n",
       "    </tr>\n",
       "  </thead>\n",
       "  <tbody>\n",
       "    <tr>\n",
       "      <th>0</th>\n",
       "      <td>Sudama Nagar</td>\n",
       "      <td>22.696331</td>\n",
       "      <td>75.834857</td>\n",
       "      <td>Fast Food</td>\n",
       "      <td>500</td>\n",
       "      <td>860</td>\n",
       "      <td>4.3</td>\n",
       "    </tr>\n",
       "    <tr>\n",
       "      <th>1</th>\n",
       "      <td>BCM Heights, Vijay Nagar</td>\n",
       "      <td>22.755705</td>\n",
       "      <td>75.895287</td>\n",
       "      <td>Cafe, Fast Food, Bakery</td>\n",
       "      <td>500</td>\n",
       "      <td>683</td>\n",
       "      <td>4.2</td>\n",
       "    </tr>\n",
       "    <tr>\n",
       "      <th>2</th>\n",
       "      <td>Sarwate Bus Stand</td>\n",
       "      <td>22.714090</td>\n",
       "      <td>75.868851</td>\n",
       "      <td>North Indian</td>\n",
       "      <td>350</td>\n",
       "      <td>2030</td>\n",
       "      <td>4.3</td>\n",
       "    </tr>\n",
       "    <tr>\n",
       "      <th>3</th>\n",
       "      <td>Old Palasia</td>\n",
       "      <td>22.725712</td>\n",
       "      <td>75.887757</td>\n",
       "      <td>North Indian, Mughlai</td>\n",
       "      <td>800</td>\n",
       "      <td>2987</td>\n",
       "      <td>4.3</td>\n",
       "    </tr>\n",
       "    <tr>\n",
       "      <th>4</th>\n",
       "      <td>Sarwate Bus Stand</td>\n",
       "      <td>22.714086</td>\n",
       "      <td>75.868846</td>\n",
       "      <td>North Indian</td>\n",
       "      <td>350</td>\n",
       "      <td>3441</td>\n",
       "      <td>4.3</td>\n",
       "    </tr>\n",
       "  </tbody>\n",
       "</table>\n",
       "</div>"
      ],
      "text/plain": [
       "                   locality   latitude  longitude                 cuisines  \\\n",
       "0              Sudama Nagar  22.696331  75.834857                Fast Food   \n",
       "1  BCM Heights, Vijay Nagar  22.755705  75.895287  Cafe, Fast Food, Bakery   \n",
       "2         Sarwate Bus Stand  22.714090  75.868851             North Indian   \n",
       "3               Old Palasia  22.725712  75.887757    North Indian, Mughlai   \n",
       "4         Sarwate Bus Stand  22.714086  75.868846             North Indian   \n",
       "\n",
       "   average_cost_for_two  votes  rating_new  \n",
       "0                   500    860         4.3  \n",
       "1                   500    683         4.2  \n",
       "2                   350   2030         4.3  \n",
       "3                   800   2987         4.3  \n",
       "4                   350   3441         4.3  "
      ]
     },
     "execution_count": 11,
     "metadata": {},
     "output_type": "execute_result"
    }
   ],
   "source": [
    "data_new.head()"
   ]
  },
  {
   "cell_type": "code",
   "execution_count": 12,
   "metadata": {},
   "outputs": [
    {
     "data": {
      "text/plain": [
       "(2851, 7)"
      ]
     },
     "execution_count": 12,
     "metadata": {},
     "output_type": "execute_result"
    }
   ],
   "source": [
    "data_new.shape"
   ]
  },
  {
   "cell_type": "code",
   "execution_count": 13,
   "metadata": {},
   "outputs": [
    {
     "name": "stdout",
     "output_type": "stream",
     "text": [
      "[['Sudama Nagar' 22.69633146 75.83485689 'Fast Food' 500 860]\n",
      " ['BCM Heights, Vijay Nagar' 22.75570457 75.89528706\n",
      "  'Cafe, Fast Food, Bakery' 500 683]\n",
      " ['Sarwate Bus Stand' 22.71408953 75.86885054 'North Indian' 350 2030]\n",
      " ...\n",
      " ['Radisson Blu Hotel, Vijay Nagar' 22.75003008 75.90347148\n",
      "  'Asian, Chinese, Momos' 1850 248]\n",
      " ['Radisson Blu Hotel, Vijay Nagar' 22.75003534 75.90347953\n",
      "  'North Indian, Kashmiri' 1850 200]\n",
      " ['Indore Marriott Hotel, Vijay Nagar' 22.7528774 75.88345349 'Bakery'\n",
      "  1500 197]]\n"
     ]
    }
   ],
   "source": [
    "# Extraction of dependent and independent columns\n",
    "# iloc is used to extract independent and dependent columns \n",
    "# x - independent columns\n",
    "# y - dependent column\n",
    "\n",
    "#In x we will consider only locality,latitude,longitude,cuisines,average_cost_for_two,votes\n",
    "\n",
    "x = data_new.iloc[ : ,0:6].values\n",
    "print(x)"
   ]
  },
  {
   "cell_type": "code",
   "execution_count": 14,
   "metadata": {},
   "outputs": [
    {
     "name": "stdout",
     "output_type": "stream",
     "text": [
      "[[4.3]\n",
      " [4.2]\n",
      " [4.3]\n",
      " ...\n",
      " [4.6]\n",
      " [4.3]\n",
      " [4.4]]\n"
     ]
    }
   ],
   "source": [
    "y = data_new.iloc[ : ,6:7].values # dependent variable\n",
    "print(y)"
   ]
  },
  {
   "cell_type": "code",
   "execution_count": 15,
   "metadata": {},
   "outputs": [
    {
     "data": {
      "text/html": [
       "<div>\n",
       "<style scoped>\n",
       "    .dataframe tbody tr th:only-of-type {\n",
       "        vertical-align: middle;\n",
       "    }\n",
       "\n",
       "    .dataframe tbody tr th {\n",
       "        vertical-align: top;\n",
       "    }\n",
       "\n",
       "    .dataframe thead th {\n",
       "        text-align: right;\n",
       "    }\n",
       "</style>\n",
       "<table border=\"1\" class=\"dataframe\">\n",
       "  <thead>\n",
       "    <tr style=\"text-align: right;\">\n",
       "      <th></th>\n",
       "      <th>locality</th>\n",
       "      <th>latitude</th>\n",
       "      <th>longitude</th>\n",
       "      <th>cuisines</th>\n",
       "      <th>average_cost_for_two</th>\n",
       "      <th>votes</th>\n",
       "    </tr>\n",
       "  </thead>\n",
       "  <tbody>\n",
       "    <tr>\n",
       "      <th>0</th>\n",
       "      <td>Sudama Nagar</td>\n",
       "      <td>22.696331</td>\n",
       "      <td>75.834857</td>\n",
       "      <td>Fast Food</td>\n",
       "      <td>500</td>\n",
       "      <td>860</td>\n",
       "    </tr>\n",
       "    <tr>\n",
       "      <th>1</th>\n",
       "      <td>BCM Heights, Vijay Nagar</td>\n",
       "      <td>22.755705</td>\n",
       "      <td>75.895287</td>\n",
       "      <td>Cafe, Fast Food, Bakery</td>\n",
       "      <td>500</td>\n",
       "      <td>683</td>\n",
       "    </tr>\n",
       "    <tr>\n",
       "      <th>2</th>\n",
       "      <td>Sarwate Bus Stand</td>\n",
       "      <td>22.714090</td>\n",
       "      <td>75.868851</td>\n",
       "      <td>North Indian</td>\n",
       "      <td>350</td>\n",
       "      <td>2030</td>\n",
       "    </tr>\n",
       "    <tr>\n",
       "      <th>3</th>\n",
       "      <td>Old Palasia</td>\n",
       "      <td>22.725712</td>\n",
       "      <td>75.887757</td>\n",
       "      <td>North Indian, Mughlai</td>\n",
       "      <td>800</td>\n",
       "      <td>2987</td>\n",
       "    </tr>\n",
       "    <tr>\n",
       "      <th>4</th>\n",
       "      <td>Sarwate Bus Stand</td>\n",
       "      <td>22.714086</td>\n",
       "      <td>75.868846</td>\n",
       "      <td>North Indian</td>\n",
       "      <td>350</td>\n",
       "      <td>3441</td>\n",
       "    </tr>\n",
       "  </tbody>\n",
       "</table>\n",
       "</div>"
      ],
      "text/plain": [
       "                   locality   latitude  longitude                 cuisines  \\\n",
       "0              Sudama Nagar  22.696331  75.834857                Fast Food   \n",
       "1  BCM Heights, Vijay Nagar  22.755705  75.895287  Cafe, Fast Food, Bakery   \n",
       "2         Sarwate Bus Stand  22.714090  75.868851             North Indian   \n",
       "3               Old Palasia  22.725712  75.887757    North Indian, Mughlai   \n",
       "4         Sarwate Bus Stand  22.714086  75.868846             North Indian   \n",
       "\n",
       "   average_cost_for_two  votes  \n",
       "0                   500    860  \n",
       "1                   500    683  \n",
       "2                   350   2030  \n",
       "3                   800   2987  \n",
       "4                   350   3441  "
      ]
     },
     "execution_count": 15,
     "metadata": {},
     "output_type": "execute_result"
    }
   ],
   "source": [
    "# to change x into dataframe, we use above command. In this way we can use head() or .null() on x as well.\n",
    "# If x is changed into dataframe, then we need to add iloc while using fit_transform method\n",
    "\n",
    "x = data_new.iloc[ : , 0:6]  \n",
    "x.head()"
   ]
  },
  {
   "cell_type": "code",
   "execution_count": 16,
   "metadata": {},
   "outputs": [
    {
     "data": {
      "text/html": [
       "<div>\n",
       "<style scoped>\n",
       "    .dataframe tbody tr th:only-of-type {\n",
       "        vertical-align: middle;\n",
       "    }\n",
       "\n",
       "    .dataframe tbody tr th {\n",
       "        vertical-align: top;\n",
       "    }\n",
       "\n",
       "    .dataframe thead th {\n",
       "        text-align: right;\n",
       "    }\n",
       "</style>\n",
       "<table border=\"1\" class=\"dataframe\">\n",
       "  <thead>\n",
       "    <tr style=\"text-align: right;\">\n",
       "      <th></th>\n",
       "      <th>rating_new</th>\n",
       "    </tr>\n",
       "  </thead>\n",
       "  <tbody>\n",
       "    <tr>\n",
       "      <th>0</th>\n",
       "      <td>4.3</td>\n",
       "    </tr>\n",
       "    <tr>\n",
       "      <th>1</th>\n",
       "      <td>4.2</td>\n",
       "    </tr>\n",
       "    <tr>\n",
       "      <th>2</th>\n",
       "      <td>4.3</td>\n",
       "    </tr>\n",
       "    <tr>\n",
       "      <th>3</th>\n",
       "      <td>4.3</td>\n",
       "    </tr>\n",
       "    <tr>\n",
       "      <th>4</th>\n",
       "      <td>4.3</td>\n",
       "    </tr>\n",
       "  </tbody>\n",
       "</table>\n",
       "</div>"
      ],
      "text/plain": [
       "   rating_new\n",
       "0         4.3\n",
       "1         4.2\n",
       "2         4.3\n",
       "3         4.3\n",
       "4         4.3"
      ]
     },
     "execution_count": 16,
     "metadata": {},
     "output_type": "execute_result"
    }
   ],
   "source": [
    "y = data_new.iloc[ : , 6:7]  \n",
    "y.head()"
   ]
  },
  {
   "cell_type": "code",
   "execution_count": 17,
   "metadata": {},
   "outputs": [
    {
     "data": {
      "text/plain": [
       "locality                0\n",
       "latitude                0\n",
       "longitude               0\n",
       "cuisines                0\n",
       "average_cost_for_two    0\n",
       "votes                   0\n",
       "dtype: int64"
      ]
     },
     "execution_count": 17,
     "metadata": {},
     "output_type": "execute_result"
    }
   ],
   "source": [
    "# Handling missing values\n",
    "\n",
    "x.isnull().sum()"
   ]
  },
  {
   "cell_type": "code",
   "execution_count": 18,
   "metadata": {},
   "outputs": [
    {
     "data": {
      "text/plain": [
       "rating_new    0\n",
       "dtype: int64"
      ]
     },
     "execution_count": 18,
     "metadata": {},
     "output_type": "execute_result"
    }
   ],
   "source": [
    "y.isnull().sum()"
   ]
  },
  {
   "cell_type": "code",
   "execution_count": 19,
   "metadata": {},
   "outputs": [
    {
     "data": {
      "text/plain": [
       "locality                 object\n",
       "latitude                float64\n",
       "longitude               float64\n",
       "cuisines                 object\n",
       "average_cost_for_two      int64\n",
       "votes                     int64\n",
       "dtype: object"
      ]
     },
     "execution_count": 19,
     "metadata": {},
     "output_type": "execute_result"
    }
   ],
   "source": [
    "# Checking data types\n",
    "\n",
    "x.dtypes"
   ]
  },
  {
   "cell_type": "code",
   "execution_count": 20,
   "metadata": {},
   "outputs": [
    {
     "data": {
      "text/plain": [
       "rating_new    float64\n",
       "dtype: object"
      ]
     },
     "execution_count": 20,
     "metadata": {},
     "output_type": "execute_result"
    }
   ],
   "source": [
    "y.dtypes"
   ]
  },
  {
   "cell_type": "code",
   "execution_count": 21,
   "metadata": {},
   "outputs": [
    {
     "name": "stdout",
     "output_type": "stream",
     "text": [
      "locality                 object\n",
      "latitude                float64\n",
      "longitude               float64\n",
      "cuisines                 object\n",
      "average_cost_for_two      int32\n",
      "votes                     int32\n",
      "dtype: object\n",
      "rating_new    float64\n",
      "dtype: object\n"
     ]
    }
   ],
   "source": [
    "# using dictionary to convert datatypes of specific columns\n",
    "\n",
    "convert_dict = {'locality':str,'latitude':float,'longitude':float,'cuisines':str,'average_cost_for_two':int,'votes':int}\n",
    "x = x.astype(convert_dict)\n",
    "print(x.dtypes)   \n",
    "\n",
    "y = y.astype(float)\n",
    "print(y.dtypes)"
   ]
  },
  {
   "cell_type": "code",
   "execution_count": 22,
   "metadata": {},
   "outputs": [
    {
     "name": "stdout",
     "output_type": "stream",
     "text": [
      "The no. of values for locality : 69\n",
      "The no. of values for latitude : 896\n",
      "The no. of values for longitude : 896\n",
      "The no. of values for cuisines : 282\n",
      "The no. of values for average_cost_for_two : 34\n",
      "The no. of values for votes : 400\n",
      "------\n",
      "The no. of values for rating_new column in dependent variable is [4.3 4.2 4.1 4.6 3.9 4.7 4.  4.8 4.9 3.8 4.4 4.5 3.7 3.6 3.3 3.5 3.4 3.2\n",
      " 3.1 3.  2.5 2.9 2.8 2.7 2.1 2.2 2.3 2.4 2.6]\n"
     ]
    }
   ],
   "source": [
    "#Checking unique values for Label Encoding\n",
    "\n",
    "#from sklearn.preprocessing import LabelEncoder\n",
    "#le = LabelEncoder()\n",
    "\n",
    "for i in x:\n",
    "    unique_vals = np.unique(x[i])\n",
    "    no_values = len(unique_vals)\n",
    "    if no_values < 10:\n",
    "        print(\"The no. of values for\",i,\":\",no_values,\"given as\",unique_vals)\n",
    "    else:\n",
    "        print(\"The no. of values for\",i,\":\",no_values)\n",
    "print(\"------\")\n",
    "print(\"The no. of values for rating_new column in dependent variable is\", y.rating_new.unique())"
   ]
  },
  {
   "cell_type": "code",
   "execution_count": 23,
   "metadata": {},
   "outputs": [
    {
     "data": {
      "text/html": [
       "<div>\n",
       "<style scoped>\n",
       "    .dataframe tbody tr th:only-of-type {\n",
       "        vertical-align: middle;\n",
       "    }\n",
       "\n",
       "    .dataframe tbody tr th {\n",
       "        vertical-align: top;\n",
       "    }\n",
       "\n",
       "    .dataframe thead th {\n",
       "        text-align: right;\n",
       "    }\n",
       "</style>\n",
       "<table border=\"1\" class=\"dataframe\">\n",
       "  <thead>\n",
       "    <tr style=\"text-align: right;\">\n",
       "      <th></th>\n",
       "      <th>locality</th>\n",
       "      <th>latitude</th>\n",
       "      <th>longitude</th>\n",
       "      <th>cuisines</th>\n",
       "      <th>average_cost_for_two</th>\n",
       "      <th>votes</th>\n",
       "    </tr>\n",
       "  </thead>\n",
       "  <tbody>\n",
       "    <tr>\n",
       "      <th>0</th>\n",
       "      <td>Sudama Nagar</td>\n",
       "      <td>22.696331</td>\n",
       "      <td>75.834857</td>\n",
       "      <td>Fast Food</td>\n",
       "      <td>500</td>\n",
       "      <td>860</td>\n",
       "    </tr>\n",
       "    <tr>\n",
       "      <th>1</th>\n",
       "      <td>BCM Heights, Vijay Nagar</td>\n",
       "      <td>22.755705</td>\n",
       "      <td>75.895287</td>\n",
       "      <td>Cafe, Fast Food, Bakery</td>\n",
       "      <td>500</td>\n",
       "      <td>683</td>\n",
       "    </tr>\n",
       "    <tr>\n",
       "      <th>2</th>\n",
       "      <td>Sarwate Bus Stand</td>\n",
       "      <td>22.714090</td>\n",
       "      <td>75.868851</td>\n",
       "      <td>North Indian</td>\n",
       "      <td>350</td>\n",
       "      <td>2030</td>\n",
       "    </tr>\n",
       "    <tr>\n",
       "      <th>3</th>\n",
       "      <td>Old Palasia</td>\n",
       "      <td>22.725712</td>\n",
       "      <td>75.887757</td>\n",
       "      <td>North Indian, Mughlai</td>\n",
       "      <td>800</td>\n",
       "      <td>2987</td>\n",
       "    </tr>\n",
       "    <tr>\n",
       "      <th>4</th>\n",
       "      <td>Sarwate Bus Stand</td>\n",
       "      <td>22.714086</td>\n",
       "      <td>75.868846</td>\n",
       "      <td>North Indian</td>\n",
       "      <td>350</td>\n",
       "      <td>3441</td>\n",
       "    </tr>\n",
       "  </tbody>\n",
       "</table>\n",
       "</div>"
      ],
      "text/plain": [
       "                   locality   latitude  longitude                 cuisines  \\\n",
       "0              Sudama Nagar  22.696331  75.834857                Fast Food   \n",
       "1  BCM Heights, Vijay Nagar  22.755705  75.895287  Cafe, Fast Food, Bakery   \n",
       "2         Sarwate Bus Stand  22.714090  75.868851             North Indian   \n",
       "3               Old Palasia  22.725712  75.887757    North Indian, Mughlai   \n",
       "4         Sarwate Bus Stand  22.714086  75.868846             North Indian   \n",
       "\n",
       "   average_cost_for_two  votes  \n",
       "0                   500    860  \n",
       "1                   500    683  \n",
       "2                   350   2030  \n",
       "3                   800   2987  \n",
       "4                   350   3441  "
      ]
     },
     "execution_count": 23,
     "metadata": {},
     "output_type": "execute_result"
    }
   ],
   "source": [
    "x.head()"
   ]
  },
  {
   "cell_type": "code",
   "execution_count": 24,
   "metadata": {},
   "outputs": [
    {
     "data": {
      "text/html": [
       "<div>\n",
       "<style scoped>\n",
       "    .dataframe tbody tr th:only-of-type {\n",
       "        vertical-align: middle;\n",
       "    }\n",
       "\n",
       "    .dataframe tbody tr th {\n",
       "        vertical-align: top;\n",
       "    }\n",
       "\n",
       "    .dataframe thead th {\n",
       "        text-align: right;\n",
       "    }\n",
       "</style>\n",
       "<table border=\"1\" class=\"dataframe\">\n",
       "  <thead>\n",
       "    <tr style=\"text-align: right;\">\n",
       "      <th></th>\n",
       "      <th>locality</th>\n",
       "      <th>latitude</th>\n",
       "      <th>longitude</th>\n",
       "      <th>cuisines</th>\n",
       "      <th>average_cost_for_two</th>\n",
       "      <th>votes</th>\n",
       "    </tr>\n",
       "  </thead>\n",
       "  <tbody>\n",
       "    <tr>\n",
       "      <th>0</th>\n",
       "      <td>62</td>\n",
       "      <td>146</td>\n",
       "      <td>93</td>\n",
       "      <td>97</td>\n",
       "      <td>9</td>\n",
       "      <td>367</td>\n",
       "    </tr>\n",
       "    <tr>\n",
       "      <th>1</th>\n",
       "      <td>4</td>\n",
       "      <td>815</td>\n",
       "      <td>692</td>\n",
       "      <td>42</td>\n",
       "      <td>9</td>\n",
       "      <td>343</td>\n",
       "    </tr>\n",
       "    <tr>\n",
       "      <th>2</th>\n",
       "      <td>59</td>\n",
       "      <td>276</td>\n",
       "      <td>277</td>\n",
       "      <td>175</td>\n",
       "      <td>6</td>\n",
       "      <td>394</td>\n",
       "    </tr>\n",
       "    <tr>\n",
       "      <th>3</th>\n",
       "      <td>45</td>\n",
       "      <td>518</td>\n",
       "      <td>536</td>\n",
       "      <td>233</td>\n",
       "      <td>15</td>\n",
       "      <td>398</td>\n",
       "    </tr>\n",
       "    <tr>\n",
       "      <th>4</th>\n",
       "      <td>59</td>\n",
       "      <td>275</td>\n",
       "      <td>276</td>\n",
       "      <td>175</td>\n",
       "      <td>6</td>\n",
       "      <td>399</td>\n",
       "    </tr>\n",
       "  </tbody>\n",
       "</table>\n",
       "</div>"
      ],
      "text/plain": [
       "   locality  latitude  longitude  cuisines  average_cost_for_two  votes\n",
       "0        62       146         93        97                     9    367\n",
       "1         4       815        692        42                     9    343\n",
       "2        59       276        277       175                     6    394\n",
       "3        45       518        536       233                    15    398\n",
       "4        59       275        276       175                     6    399"
      ]
     },
     "execution_count": 24,
     "metadata": {},
     "output_type": "execute_result"
    }
   ],
   "source": [
    "# There are many unique values and we have to turn it into numeric form for feature scalling. \n",
    "# Since OHE will return many columns which is not suitable, therefore we use label encoding.\n",
    "\n",
    "# Handling categorical data using Label Encoding\n",
    "\n",
    "from sklearn.preprocessing import LabelEncoder\n",
    "le = LabelEncoder()\n",
    "\n",
    "x.iloc[ : ,0] = le.fit_transform(x.iloc[ : ,0])\n",
    "x.iloc[ : ,1] = le.fit_transform(x.iloc[ : ,1])\n",
    "x.iloc[ : ,2] = le.fit_transform(x.iloc[ : ,2])\n",
    "x.iloc[ : ,3] = le.fit_transform(x.iloc[ : ,3])\n",
    "x.iloc[ : ,4] = le.fit_transform(x.iloc[ : ,4])\n",
    "x.iloc[ : ,5] = le.fit_transform(x.iloc[ : ,5])\n",
    "\n",
    "x.head()"
   ]
  },
  {
   "cell_type": "code",
   "execution_count": 25,
   "metadata": {},
   "outputs": [
    {
     "data": {
      "text/html": [
       "<div>\n",
       "<style scoped>\n",
       "    .dataframe tbody tr th:only-of-type {\n",
       "        vertical-align: middle;\n",
       "    }\n",
       "\n",
       "    .dataframe tbody tr th {\n",
       "        vertical-align: top;\n",
       "    }\n",
       "\n",
       "    .dataframe thead th {\n",
       "        text-align: right;\n",
       "    }\n",
       "</style>\n",
       "<table border=\"1\" class=\"dataframe\">\n",
       "  <thead>\n",
       "    <tr style=\"text-align: right;\">\n",
       "      <th></th>\n",
       "      <th>rating_new</th>\n",
       "    </tr>\n",
       "  </thead>\n",
       "  <tbody>\n",
       "    <tr>\n",
       "      <th>0</th>\n",
       "      <td>62</td>\n",
       "    </tr>\n",
       "    <tr>\n",
       "      <th>1</th>\n",
       "      <td>4</td>\n",
       "    </tr>\n",
       "    <tr>\n",
       "      <th>2</th>\n",
       "      <td>59</td>\n",
       "    </tr>\n",
       "    <tr>\n",
       "      <th>3</th>\n",
       "      <td>45</td>\n",
       "    </tr>\n",
       "    <tr>\n",
       "      <th>4</th>\n",
       "      <td>59</td>\n",
       "    </tr>\n",
       "  </tbody>\n",
       "</table>\n",
       "</div>"
      ],
      "text/plain": [
       "   rating_new\n",
       "0          62\n",
       "1           4\n",
       "2          59\n",
       "3          45\n",
       "4          59"
      ]
     },
     "execution_count": 25,
     "metadata": {},
     "output_type": "execute_result"
    }
   ],
   "source": [
    "# Handling categorical data using Label Encoding\n",
    "y.iloc[ : ,0] = le.fit_transform(x.iloc[ : ,0])\n",
    "\n",
    "y.head()"
   ]
  },
  {
   "cell_type": "code",
   "execution_count": 26,
   "metadata": {},
   "outputs": [],
   "source": [
    "#Splitting the dataset into training dataset and testing dataset\n",
    "\n",
    "from sklearn.model_selection import train_test_split\n",
    "x_train, x_test, y_train, y_test = train_test_split(x,y,test_size = 0.2,random_state=100) \n",
    "\n",
    "#The order of the above variables on L.H.S should be exact.\n",
    "#random_state is optional part.\n",
    "#If random state is taken, it signifies that sequence of data is changed and any row can be taken as testing dataset's part.\n",
    "#It can be any number and particular sequence is attached to particular number."
   ]
  },
  {
   "cell_type": "code",
   "execution_count": 27,
   "metadata": {},
   "outputs": [
    {
     "data": {
      "text/plain": [
       "2280"
      ]
     },
     "execution_count": 27,
     "metadata": {},
     "output_type": "execute_result"
    }
   ],
   "source": [
    "len(x_train)"
   ]
  },
  {
   "cell_type": "code",
   "execution_count": 28,
   "metadata": {},
   "outputs": [
    {
     "data": {
      "text/plain": [
       "571"
      ]
     },
     "execution_count": 28,
     "metadata": {},
     "output_type": "execute_result"
    }
   ],
   "source": [
    "len(x_test)"
   ]
  },
  {
   "cell_type": "code",
   "execution_count": 29,
   "metadata": {},
   "outputs": [
    {
     "data": {
      "text/plain": [
       "2280"
      ]
     },
     "execution_count": 29,
     "metadata": {},
     "output_type": "execute_result"
    }
   ],
   "source": [
    "len(y_train)"
   ]
  },
  {
   "cell_type": "code",
   "execution_count": 30,
   "metadata": {},
   "outputs": [
    {
     "data": {
      "text/plain": [
       "571"
      ]
     },
     "execution_count": 30,
     "metadata": {},
     "output_type": "execute_result"
    }
   ],
   "source": [
    "len(y_test)"
   ]
  },
  {
   "cell_type": "code",
   "execution_count": 31,
   "metadata": {},
   "outputs": [],
   "source": [
    "#Feature Scaling using Sandardization\n",
    "\n",
    "from sklearn.preprocessing import StandardScaler\n",
    "st=StandardScaler()\n",
    "x_train = st.fit_transform(x_train)\n",
    "x_test = st.transform(x_test)"
   ]
  },
  {
   "cell_type": "code",
   "execution_count": 32,
   "metadata": {},
   "outputs": [
    {
     "name": "stdout",
     "output_type": "stream",
     "text": [
      "[[ 0.51897492 -1.79258562 -1.85197701  0.34253689 -1.2294392  -1.71392716]\n",
      " [-0.28166904  0.76633818  0.7979089   1.5734123   0.56965129  1.01051027]\n",
      " [-0.54855037  0.93745163  1.38496055 -0.73606528  2.50713336  1.10082311]\n",
      " ...\n",
      " [ 0.38553426 -1.68758418 -1.68483036 -1.05330121 -0.12230659  0.55141998]\n",
      " [-1.88295698  0.92189586  1.41757453  0.49481013  1.1232176   1.0782449 ]\n",
      " [ 1.09721779  1.58690494  1.48280249  0.81204607  1.26160917  0.43100286]]\n"
     ]
    }
   ],
   "source": [
    "print(x_train)"
   ]
  },
  {
   "cell_type": "code",
   "execution_count": 33,
   "metadata": {},
   "outputs": [
    {
     "name": "stdout",
     "output_type": "stream",
     "text": [
      "[[ 0.29657382 -0.55979102 -0.64525973 -0.62186034 -1.2294392   0.77720209]\n",
      " [-1.08231301  0.4707786  -0.59226202  0.49481013 -0.95265605  1.19866203]\n",
      " [-1.66055587 -1.52035968 -0.98770653  0.86280381 -0.6758729   0.53636784]\n",
      " ...\n",
      " [ 0.11865294  0.05077287  0.69599021  1.3703813   0.29286814  0.37832037]\n",
      " [ 0.38553426 -1.71480678 -1.56660468 -1.63701532 -0.26069817  0.46110714]\n",
      " [-1.34919433 -1.69536207  1.7151771   1.06583481  1.26160917 -1.5031972 ]]\n"
     ]
    }
   ],
   "source": [
    "print(x_test)"
   ]
  },
  {
   "cell_type": "markdown",
   "metadata": {},
   "source": [
    "## Model Building-Bagging vs Boosting using base estimator as Decision Tree with entropy"
   ]
  },
  {
   "cell_type": "code",
   "execution_count": 34,
   "metadata": {},
   "outputs": [
    {
     "data": {
      "text/plain": [
       "DecisionTreeClassifier(criterion='entropy')"
      ]
     },
     "execution_count": 34,
     "metadata": {},
     "output_type": "execute_result"
    }
   ],
   "source": [
    "# to create the DT model - base estimator (entropy)\n",
    "from sklearn.tree import DecisionTreeClassifier\n",
    "DTC = DecisionTreeClassifier(criterion='entropy') \n",
    "\n",
    "# train the classifier on training data\n",
    "DTC.fit(x_train, y_train)"
   ]
  },
  {
   "cell_type": "code",
   "execution_count": 35,
   "metadata": {
    "scrolled": true
   },
   "outputs": [
    {
     "data": {
      "text/plain": [
       "array([49, 18,  5, 22, 60,  4, 51, 51,  4, 45, 36, 67, 67, 49, 50, 46, 58,\n",
       "        3, 56,  5, 67,  7, 33,  7, 44, 44, 67,  7, 56, 36, 30,  4,  5,  0,\n",
       "       67,  7, 56, 51, 36, 67, 62, 51,  0, 30, 28, 58,  3, 44, 36, 62, 25,\n",
       "       39, 16, 56, 60, 18,  7, 67, 60, 45, 18, 67,  5,  8, 39, 59, 26, 59,\n",
       "       44, 45, 36, 67, 56, 45, 45, 35, 66, 35,  3, 39, 36, 68, 45, 59, 67,\n",
       "       32, 45, 45, 22, 53,  6, 36, 60, 26, 18, 60,  3, 67, 32, 38, 67, 67,\n",
       "       16,  3,  9,  5, 59, 67, 16,  4, 60, 36, 44, 38,  4, 31, 45,  1, 68,\n",
       "       66, 31, 35, 45, 51, 61, 54, 60, 54, 50, 68,  5,  7, 22, 67, 30, 67,\n",
       "       61, 16,  5, 18, 45,  0, 51, 44, 54, 45, 62, 51, 59,  3, 67, 18, 25,\n",
       "       68, 57, 56,  4, 34, 44, 68, 58,  5, 16, 45, 35, 44, 67,  5, 67, 49,\n",
       "       45, 59, 18, 67,  5,  1, 67,  6, 45,  0, 56, 67, 67, 49, 43, 67, 67,\n",
       "       22,  1, 45,  5, 60, 49, 18,  3, 64,  5, 62, 39, 67, 49,  8, 45, 51,\n",
       "       67, 62, 67, 45, 30, 67, 68,  0,  0, 67, 60, 59, 59, 18, 45, 58, 44,\n",
       "       67,  0, 29, 67, 67, 44, 20, 45, 45,  3, 32, 62, 66, 67,  1, 45, 66,\n",
       "       45, 67,  5, 68, 67, 67, 43, 18, 67, 54, 54, 67, 67,  5, 67, 49,  7,\n",
       "       35, 67, 56, 50, 45, 67, 62, 32, 10, 67, 61, 26, 38, 44, 67, 36, 67,\n",
       "       45, 32, 68,  3,  5, 54,  5, 58, 21, 67, 64, 67, 59, 45, 67, 18, 45,\n",
       "       60, 50,  7, 44, 45, 67, 67, 50,  3, 61, 67, 29, 30, 44, 67,  5, 61,\n",
       "       28, 67, 15, 67, 30, 56, 67,  1, 40, 35, 45, 67, 32,  4, 67, 61, 31,\n",
       "        1,  7, 45, 62,  0, 67, 58,  4, 51, 45, 67, 23,  0, 46,  6, 60, 60,\n",
       "       67,  1, 45, 46, 67, 44, 56, 45, 18, 29,  5, 56, 50, 67, 25, 49, 28,\n",
       "       67, 49, 30, 67, 45,  1, 44,  5, 18, 62, 67, 67, 30, 38,  3, 46, 21,\n",
       "       61, 60, 32, 56, 25,  5, 36, 44,  7, 67, 62, 67, 32, 67,  5, 45, 44,\n",
       "       58, 35, 31, 61, 44, 44, 14, 67, 66, 67, 18, 67, 29, 49, 45,  4, 67,\n",
       "       59,  1, 67, 67, 67, 67, 62, 67, 59, 67, 44, 67, 54, 68, 12,  1, 44,\n",
       "       18, 59, 45,  7, 68, 62,  7, 56, 67,  1, 60, 67, 37, 44, 67, 59, 67,\n",
       "       44, 67, 44, 44, 31, 66,  1, 60, 68, 67, 45, 49, 16, 64, 18, 62,  4,\n",
       "        0, 56, 59,  9, 30, 44, 66, 67, 67,  5, 54,  7, 54, 44,  5, 32, 32,\n",
       "       12, 18, 62, 17, 62, 31, 67, 36, 45, 18,  3, 45, 53, 67, 44,  1, 62,\n",
       "        4,  7,  5, 67, 67, 39, 44, 32, 26, 67, 67, 32, 67, 33,  2, 56, 45,\n",
       "       67, 43, 64, 67, 62,  3, 29, 56, 36,  1, 36, 49, 44, 67, 38, 67, 67,\n",
       "       45, 56, 60, 44, 61, 44, 44, 16, 32, 19,  7, 54, 67, 45, 45, 67, 35,\n",
       "       68, 59, 56, 59, 67, 51, 41,  3,  2, 45, 45, 32, 45, 67, 49, 68, 44,\n",
       "       67, 59,  8, 10, 44,  7,  5, 45, 51, 12], dtype=int64)"
      ]
     },
     "execution_count": 35,
     "metadata": {},
     "output_type": "execute_result"
    }
   ],
   "source": [
    "y_pred = DTC.predict(x_test)\n",
    "y_pred"
   ]
  },
  {
   "cell_type": "markdown",
   "metadata": {},
   "source": [
    "--------"
   ]
  },
  {
   "cell_type": "code",
   "execution_count": 36,
   "metadata": {},
   "outputs": [
    {
     "name": "stderr",
     "output_type": "stream",
     "text": [
      "C:\\Users\\MUJTABA\\anaconda3\\lib\\site-packages\\sklearn\\utils\\validation.py:72: DataConversionWarning: A column-vector y was passed when a 1d array was expected. Please change the shape of y to (n_samples, ), for example using ravel().\n",
      "  return f(**kwargs)\n"
     ]
    }
   ],
   "source": [
    "# to create boosting model\n",
    "\n",
    "from sklearn.ensemble import AdaBoostClassifier\n",
    "AdaBoost = AdaBoostClassifier(base_estimator = DTC, n_estimators = 400, learning_rate = 1)\n",
    "\n",
    "boostmodel = AdaBoost.fit(x_train, y_train)"
   ]
  },
  {
   "cell_type": "code",
   "execution_count": 37,
   "metadata": {
    "scrolled": true
   },
   "outputs": [
    {
     "data": {
      "text/plain": [
       "array([49, 18,  5, 22, 60,  4, 51, 51,  4, 45, 36, 67, 67, 49, 50, 46, 58,\n",
       "        3, 56,  5, 67,  7, 33,  7, 44, 44, 67,  7, 56, 36, 30,  4,  5,  0,\n",
       "       67,  7, 56, 51, 36, 67, 62, 51,  0, 30, 28, 58,  3, 44, 36, 62, 25,\n",
       "       39, 16, 56, 60, 18,  7, 67, 60, 45, 18, 67,  5,  8, 39, 59, 26, 59,\n",
       "       44, 45, 36, 67, 56, 45, 45, 35, 66, 35,  3, 39, 36, 68, 45, 59, 67,\n",
       "       32, 45, 45, 22, 53,  6, 36, 60, 26, 18, 60,  3, 67, 32, 38, 67, 67,\n",
       "       16,  3,  9,  5, 59, 67, 16,  4, 60, 36, 44, 38,  4, 31, 45,  1, 68,\n",
       "       66, 31, 35, 45, 51, 61, 54, 60, 54, 50, 68,  5,  7, 22, 67, 30, 67,\n",
       "       61, 16,  5, 18, 45,  0, 51, 44, 54, 45, 62, 51, 59,  3, 67, 18, 25,\n",
       "       68, 57, 56,  4, 34, 44, 68, 58,  5, 16, 45, 35, 44, 67,  5, 67, 49,\n",
       "       45, 59, 18, 67,  5,  1, 67,  6, 45,  0, 56, 67, 67, 49, 43, 67, 67,\n",
       "       22,  1, 45,  5, 60, 49, 18,  3, 64,  5, 62, 39, 67, 49,  8, 45, 51,\n",
       "       67, 62, 67, 45, 30, 67, 68,  0,  0, 67, 60, 59, 59, 18, 45, 58, 44,\n",
       "       67,  0, 29, 67, 67, 44, 20, 45, 45,  3, 32, 62, 66, 67,  1, 45, 66,\n",
       "       45, 67,  5, 68, 67, 67, 43, 18, 67, 54, 54, 67, 67,  5, 67, 49,  7,\n",
       "       35, 67, 56, 50, 45, 67, 62, 32, 10, 67, 61, 26, 38, 44, 67, 36, 67,\n",
       "       45, 32, 68,  3,  5, 54,  5, 58, 21, 67, 64, 67, 59, 45, 67, 18, 45,\n",
       "       60, 50,  7, 44, 45, 67, 67, 50,  3, 61, 67, 29, 30, 44, 67,  5, 61,\n",
       "       28, 67, 15, 67, 30, 56, 67,  1, 40, 35, 45, 67, 32,  4, 67, 61, 31,\n",
       "        1,  7, 45, 62,  0, 67, 58,  4, 51, 45, 67, 23,  0, 46,  6, 60, 60,\n",
       "       67,  1, 45, 46, 67, 44, 56, 45, 18, 29,  5, 56, 50, 67, 25, 49, 28,\n",
       "       67, 49, 30, 67, 45,  1, 44,  5, 18, 62, 67, 67, 30, 38,  3, 46, 21,\n",
       "       61, 60, 32, 56, 25,  5, 36, 44,  7, 67, 62, 67, 32, 67,  5, 45, 44,\n",
       "       58, 35, 31, 61, 44, 44, 14, 67, 66, 67, 18, 67, 29, 49, 45,  4, 67,\n",
       "       59,  1, 67, 67, 67, 67, 62, 67, 59, 67, 44, 67, 54, 68, 12,  1, 44,\n",
       "       18, 59, 45,  7, 68, 62,  7, 56, 67,  1, 60, 67, 37, 44, 67, 59, 67,\n",
       "       44, 67, 44, 44, 31, 66,  1, 60, 68, 67, 45, 49, 16, 65, 18, 62,  4,\n",
       "        0, 56, 59,  9, 30, 44, 66, 67, 67,  5, 54,  7, 54, 44,  5, 32, 32,\n",
       "       12, 18, 62, 17, 62, 31, 67, 36, 45, 18,  3, 45, 53, 67, 44,  1, 62,\n",
       "        4,  7,  5, 67, 67, 39, 44, 32, 26, 67, 67, 32, 67, 33,  2, 56, 45,\n",
       "       67, 43, 64, 67, 62,  3, 29, 56, 36,  1, 36, 49, 44, 67, 38, 67, 67,\n",
       "       45, 56, 60, 44, 61, 44, 44, 16, 32, 19,  7, 54, 67, 45, 45, 67, 35,\n",
       "       68, 59, 56, 59, 67, 51, 41,  3,  2, 45, 45, 32, 45, 67, 49, 68, 44,\n",
       "       67, 59,  8, 10, 44,  7,  5, 45, 51, 12], dtype=int64)"
      ]
     },
     "execution_count": 37,
     "metadata": {},
     "output_type": "execute_result"
    }
   ],
   "source": [
    "y_boostpred = boostmodel.predict(x_test)\n",
    "y_boostpred"
   ]
  },
  {
   "cell_type": "code",
   "execution_count": 39,
   "metadata": {},
   "outputs": [
    {
     "data": {
      "text/plain": [
       "99.64973730297724"
      ]
     },
     "execution_count": 39,
     "metadata": {},
     "output_type": "execute_result"
    }
   ],
   "source": [
    "from sklearn.metrics import accuracy_score\n",
    "accuracy_score(y_boostpred, y_test)*100"
   ]
  },
  {
   "cell_type": "code",
   "execution_count": 40,
   "metadata": {},
   "outputs": [
    {
     "data": {
      "text/plain": [
       "array([[ 10,   0,   0, ...,   0,   0,   0],\n",
       "       [  0,  14,   0, ...,   0,   0,   0],\n",
       "       [  0,   0,   2, ...,   0,   0,   0],\n",
       "       ...,\n",
       "       [  0,   0,   0, ...,   7,   0,   0],\n",
       "       [  0,   0,   0, ...,   0, 106,   0],\n",
       "       [  0,   0,   0, ...,   0,   0,  13]], dtype=int64)"
      ]
     },
     "execution_count": 40,
     "metadata": {},
     "output_type": "execute_result"
    }
   ],
   "source": [
    "from sklearn.metrics import confusion_matrix\n",
    "cm = confusion_matrix(y_boostpred,y_test)\n",
    "cm"
   ]
  },
  {
   "cell_type": "code",
   "execution_count": 41,
   "metadata": {},
   "outputs": [
    {
     "data": {
      "text/plain": [
       "<AxesSubplot:>"
      ]
     },
     "execution_count": 41,
     "metadata": {},
     "output_type": "execute_result"
    },
    {
     "data": {
      "image/png": "[encoded data removed]",
      "text/plain": [
       "<Figure size 1440x1440 with 2 Axes>"
      ]
     },
     "metadata": {
      "needs_background": "light"
     },
     "output_type": "display_data"
    }
   ],
   "source": [
    "import matplotlib.pyplot as plt\n",
    "plt.figure(figsize=(20,20))\n",
    "import seaborn as sns\n",
    "sns.heatmap(cm, annot = True)"
   ]
  },
  {
   "cell_type": "code",
   "execution_count": 42,
   "metadata": {
    "scrolled": false
   },
   "outputs": [
    {
     "name": "stdout",
     "output_type": "stream",
     "text": [
      "              precision    recall  f1-score   support\n",
      "\n",
      "           0       1.00      1.00      1.00        10\n",
      "           1       1.00      1.00      1.00        14\n",
      "           2       1.00      1.00      1.00         2\n",
      "           3       1.00      1.00      1.00        14\n",
      "           4       1.00      1.00      1.00        11\n",
      "           5       1.00      1.00      1.00        25\n",
      "           6       1.00      1.00      1.00         3\n",
      "           7       1.00      1.00      1.00        16\n",
      "           8       1.00      1.00      1.00         3\n",
      "           9       1.00      1.00      1.00         2\n",
      "          10       1.00      1.00      1.00         2\n",
      "          12       1.00      1.00      1.00         3\n",
      "          14       1.00      1.00      1.00         1\n",
      "          15       1.00      1.00      1.00         1\n",
      "          16       1.00      1.00      1.00         7\n",
      "          17       1.00      1.00      1.00         1\n",
      "          18       1.00      1.00      1.00        18\n",
      "          19       1.00      1.00      1.00         1\n",
      "          20       1.00      1.00      1.00         1\n",
      "          21       1.00      1.00      1.00         2\n",
      "          22       1.00      1.00      1.00         4\n",
      "          23       1.00      1.00      1.00         1\n",
      "          25       1.00      1.00      1.00         4\n",
      "          26       1.00      1.00      1.00         4\n",
      "          28       1.00      1.00      1.00         3\n",
      "          29       1.00      1.00      1.00         5\n",
      "          30       1.00      1.00      1.00         9\n",
      "          31       1.00      1.00      1.00         6\n",
      "          32       1.00      1.00      1.00        14\n",
      "          33       1.00      1.00      1.00         2\n",
      "          34       1.00      1.00      1.00         1\n",
      "          35       1.00      1.00      1.00         8\n",
      "          36       1.00      1.00      1.00        13\n",
      "          37       1.00      1.00      1.00         1\n",
      "          38       1.00      1.00      1.00         5\n",
      "          39       1.00      1.00      1.00         5\n",
      "          40       1.00      1.00      1.00         1\n",
      "          41       1.00      1.00      1.00         1\n",
      "          43       1.00      1.00      1.00         3\n",
      "          44       1.00      1.00      1.00        35\n",
      "          45       1.00      1.00      1.00        48\n",
      "          46       1.00      1.00      1.00         4\n",
      "          49       1.00      1.00      1.00        13\n",
      "          50       1.00      1.00      1.00         6\n",
      "          51       1.00      1.00      1.00        11\n",
      "          53       1.00      1.00      1.00         2\n",
      "          54       1.00      1.00      1.00        10\n",
      "          56       1.00      1.00      1.00        18\n",
      "          57       1.00      1.00      1.00         1\n",
      "          58       1.00      1.00      1.00         7\n",
      "          59       1.00      1.00      1.00        17\n",
      "          60       1.00      1.00      1.00        16\n",
      "          61       1.00      0.89      0.94         9\n",
      "          62       0.94      1.00      0.97        17\n",
      "          64       0.75      1.00      0.86         3\n",
      "          65       0.00      0.00      0.00         1\n",
      "          66       1.00      1.00      1.00         7\n",
      "          67       1.00      1.00      1.00       106\n",
      "          68       1.00      1.00      1.00        13\n",
      "\n",
      "    accuracy                           1.00       571\n",
      "   macro avg       0.98      0.98      0.98       571\n",
      "weighted avg       1.00      1.00      1.00       571\n",
      "\n"
     ]
    },
    {
     "name": "stderr",
     "output_type": "stream",
     "text": [
      "C:\\Users\\MUJTABA\\anaconda3\\lib\\site-packages\\sklearn\\metrics\\_classification.py:1221: UndefinedMetricWarning: Precision and F-score are ill-defined and being set to 0.0 in labels with no predicted samples. Use `zero_division` parameter to control this behavior.\n",
      "  _warn_prf(average, modifier, msg_start, len(result))\n"
     ]
    }
   ],
   "source": [
    "from sklearn.metrics import classification_report\n",
    "print(classification_report(y_boostpred,y_test))"
   ]
  },
  {
   "cell_type": "markdown",
   "metadata": {},
   "source": [
    "-------"
   ]
  },
  {
   "cell_type": "code",
   "execution_count": 43,
   "metadata": {},
   "outputs": [
    {
     "name": "stderr",
     "output_type": "stream",
     "text": [
      "C:\\Users\\MUJTABA\\anaconda3\\lib\\site-packages\\sklearn\\utils\\validation.py:72: DataConversionWarning: A column-vector y was passed when a 1d array was expected. Please change the shape of y to (n_samples, ), for example using ravel().\n",
      "  return f(**kwargs)\n"
     ]
    },
    {
     "data": {
      "text/plain": [
       "BaggingClassifier(base_estimator=DecisionTreeClassifier(criterion='entropy'),\n",
       "                  max_samples=0.8, n_estimators=400, oob_score=True,\n",
       "                  random_state=0)"
      ]
     },
     "execution_count": 43,
     "metadata": {},
     "output_type": "execute_result"
    }
   ],
   "source": [
    "# to create bagging model\n",
    "\n",
    "from sklearn.ensemble import BaggingClassifier\n",
    "Bag = BaggingClassifier(base_estimator = DTC, n_estimators = 400, max_samples = 0.8, oob_score = True, random_state = 0)\n",
    "\n",
    "Bag.fit(x_train, y_train)"
   ]
  },
  {
   "cell_type": "code",
   "execution_count": 44,
   "metadata": {
    "scrolled": true
   },
   "outputs": [
    {
     "data": {
      "text/plain": [
       "array([49, 18,  5, 22, 60,  4, 51, 51,  4, 45, 36, 67, 67, 49, 50, 46, 58,\n",
       "        3, 56,  5, 67,  7, 33,  7, 44, 44, 67,  7, 56, 36, 30,  4,  5,  0,\n",
       "       67,  7, 56, 51, 36, 67, 62, 51,  0, 30, 28, 58,  3, 44, 36, 62, 25,\n",
       "       39, 16, 56, 60, 18,  7, 67, 60, 45, 18, 67,  5,  8, 39, 59, 26, 59,\n",
       "       44, 45, 36, 67, 56, 45, 45, 35, 66, 35,  3, 39, 36, 68, 45, 59, 67,\n",
       "       32, 45, 45, 22, 53,  6, 36, 60, 26, 18, 60,  3, 67, 32, 38, 67, 67,\n",
       "       16,  3,  9,  5, 59, 67, 16,  4, 60, 36, 44, 38,  4, 31, 45,  1, 68,\n",
       "       66, 31, 35, 45, 51, 61, 54, 60, 54, 50, 68,  5,  7, 22, 67, 30, 67,\n",
       "       61, 16,  5, 18, 45,  0, 51, 44, 54, 45, 62, 51, 59,  3, 67, 18, 25,\n",
       "       68, 57, 56,  4, 34, 44, 68, 58,  5, 16, 45, 35, 44, 67,  5, 67, 49,\n",
       "       45, 59, 18, 67,  5,  1, 67,  6, 45,  0, 56, 67, 67, 49, 43, 67, 67,\n",
       "       22,  1, 45,  5, 60, 49, 18,  3, 64,  5, 62, 39, 67, 49,  8, 45, 51,\n",
       "       67, 62, 67, 45, 30, 67, 68,  0,  0, 67, 60, 59, 59, 18, 45, 58, 44,\n",
       "       67,  0, 29, 67, 67, 44, 20, 45, 45,  3, 32, 62, 66, 67,  1, 45, 66,\n",
       "       45, 67,  5, 68, 67, 67, 43, 18, 67, 54, 54, 67, 67,  5, 67, 49,  7,\n",
       "       35, 67, 56, 50, 45, 67, 62, 32, 10, 67, 61, 26, 38, 44, 67, 36, 67,\n",
       "       45, 32, 68,  3,  5, 54,  5, 58, 21, 67, 64, 67, 59, 45, 67, 18, 45,\n",
       "       60, 50,  7, 44, 45, 67, 67, 50,  3, 61, 67, 29, 30, 44, 67,  5, 61,\n",
       "       28, 67, 15, 67, 30, 56, 67,  1, 40, 35, 45, 67, 32,  4, 67, 61, 31,\n",
       "        1,  7, 45, 62,  0, 67, 58,  4, 51, 45, 67, 23,  0, 46,  6, 60, 60,\n",
       "       67,  1, 45, 46, 67, 44, 56, 45, 18, 29,  5, 56, 50, 67, 25, 49, 28,\n",
       "       67, 49, 30, 67, 45,  1, 44,  5, 18, 62, 67, 67, 30, 38,  3, 46, 21,\n",
       "       61, 60, 32, 56, 25,  5, 36, 44,  7, 67, 62, 67, 32, 67,  5, 45, 44,\n",
       "       58, 35, 31, 61, 44, 44, 14, 67, 66, 67, 18, 67, 29, 49, 45,  4, 67,\n",
       "       59,  1, 67, 67, 67, 67, 62, 67, 59, 67, 44, 67, 54, 68, 12,  1, 44,\n",
       "       18, 59, 45,  7, 68, 62,  7, 56, 67,  1, 60, 67, 37, 44, 67, 59, 67,\n",
       "       44, 67, 44, 44, 31, 66,  1, 60, 68, 67, 45, 49, 16, 64, 18, 62,  4,\n",
       "        0, 56, 59,  9, 30, 44, 66, 67, 67,  5, 54,  7, 54, 44,  5, 32, 32,\n",
       "       12, 18, 62, 17, 62, 31, 67, 36, 45, 18,  3, 45, 53, 67, 44,  1, 62,\n",
       "        4,  7,  5, 67, 67, 39, 44, 32, 26, 67, 67, 32, 67, 33,  2, 56, 45,\n",
       "       67, 43, 64, 67, 62,  3, 29, 56, 36,  1, 36, 49, 44, 67, 38, 67, 67,\n",
       "       45, 56, 60, 44, 61, 44, 44, 16, 32, 19,  7, 54, 67, 45, 45, 67, 35,\n",
       "       68, 59, 56, 59, 67, 51, 41,  3,  2, 45, 45, 32, 45, 67, 49, 68, 44,\n",
       "       67, 59,  8, 10, 44,  7,  5, 45, 51, 12], dtype=int64)"
      ]
     },
     "execution_count": 44,
     "metadata": {},
     "output_type": "execute_result"
    }
   ],
   "source": [
    "y_bagpred = Bag.predict(x_test)\n",
    "y_bagpred"
   ]
  },
  {
   "cell_type": "code",
   "execution_count": 45,
   "metadata": {},
   "outputs": [
    {
     "data": {
      "text/plain": [
       "99.82486865148861"
      ]
     },
     "execution_count": 45,
     "metadata": {},
     "output_type": "execute_result"
    }
   ],
   "source": [
    "accuracy_score(y_bagpred, y_test)*100"
   ]
  },
  {
   "cell_type": "code",
   "execution_count": 46,
   "metadata": {},
   "outputs": [
    {
     "data": {
      "text/plain": [
       "array([[ 10,   0,   0, ...,   0,   0,   0],\n",
       "       [  0,  14,   0, ...,   0,   0,   0],\n",
       "       [  0,   0,   2, ...,   0,   0,   0],\n",
       "       ...,\n",
       "       [  0,   0,   0, ...,   7,   0,   0],\n",
       "       [  0,   0,   0, ...,   0, 106,   0],\n",
       "       [  0,   0,   0, ...,   0,   0,  13]], dtype=int64)"
      ]
     },
     "execution_count": 46,
     "metadata": {},
     "output_type": "execute_result"
    }
   ],
   "source": [
    "from sklearn.metrics import confusion_matrix\n",
    "cm = confusion_matrix(y_bagpred,y_test)\n",
    "cm"
   ]
  },
  {
   "cell_type": "code",
   "execution_count": 227,
   "metadata": {},
   "outputs": [
    {
     "data": {
      "text/plain": [
       "<AxesSubplot:>"
      ]
     },
     "execution_count": 227,
     "metadata": {},
     "output_type": "execute_result"
    },
    {
     "data": {
      "image/png": "[encoded data removed]",
      "text/plain": [
       "<Figure size 1440x1440 with 2 Axes>"
      ]
     },
     "metadata": {
      "needs_background": "light"
     },
     "output_type": "display_data"
    }
   ],
   "source": [
    "import matplotlib.pyplot as plt\n",
    "plt.figure(figsize=(20,20))\n",
    "import seaborn as sns\n",
    "sns.heatmap(cm, annot = True)"
   ]
  },
  {
   "cell_type": "code",
   "execution_count": 47,
   "metadata": {},
   "outputs": [
    {
     "name": "stdout",
     "output_type": "stream",
     "text": [
      "              precision    recall  f1-score   support\n",
      "\n",
      "           0       1.00      1.00      1.00        10\n",
      "           1       1.00      1.00      1.00        14\n",
      "           2       1.00      1.00      1.00         2\n",
      "           3       1.00      1.00      1.00        14\n",
      "           4       1.00      1.00      1.00        11\n",
      "           5       1.00      1.00      1.00        25\n",
      "           6       1.00      1.00      1.00         3\n",
      "           7       1.00      1.00      1.00        16\n",
      "           8       1.00      1.00      1.00         3\n",
      "           9       1.00      1.00      1.00         2\n",
      "          10       1.00      1.00      1.00         2\n",
      "          12       1.00      1.00      1.00         3\n",
      "          14       1.00      1.00      1.00         1\n",
      "          15       1.00      1.00      1.00         1\n",
      "          16       1.00      1.00      1.00         7\n",
      "          17       1.00      1.00      1.00         1\n",
      "          18       1.00      1.00      1.00        18\n",
      "          19       1.00      1.00      1.00         1\n",
      "          20       1.00      1.00      1.00         1\n",
      "          21       1.00      1.00      1.00         2\n",
      "          22       1.00      1.00      1.00         4\n",
      "          23       1.00      1.00      1.00         1\n",
      "          25       1.00      1.00      1.00         4\n",
      "          26       1.00      1.00      1.00         4\n",
      "          28       1.00      1.00      1.00         3\n",
      "          29       1.00      1.00      1.00         5\n",
      "          30       1.00      1.00      1.00         9\n",
      "          31       1.00      1.00      1.00         6\n",
      "          32       1.00      1.00      1.00        14\n",
      "          33       1.00      1.00      1.00         2\n",
      "          34       1.00      1.00      1.00         1\n",
      "          35       1.00      1.00      1.00         8\n",
      "          36       1.00      1.00      1.00        13\n",
      "          37       1.00      1.00      1.00         1\n",
      "          38       1.00      1.00      1.00         5\n",
      "          39       1.00      1.00      1.00         5\n",
      "          40       1.00      1.00      1.00         1\n",
      "          41       1.00      1.00      1.00         1\n",
      "          43       1.00      1.00      1.00         3\n",
      "          44       1.00      1.00      1.00        35\n",
      "          45       1.00      1.00      1.00        48\n",
      "          46       1.00      1.00      1.00         4\n",
      "          49       1.00      1.00      1.00        13\n",
      "          50       1.00      1.00      1.00         6\n",
      "          51       1.00      1.00      1.00        11\n",
      "          53       1.00      1.00      1.00         2\n",
      "          54       1.00      1.00      1.00        10\n",
      "          56       1.00      1.00      1.00        18\n",
      "          57       1.00      1.00      1.00         1\n",
      "          58       1.00      1.00      1.00         7\n",
      "          59       1.00      1.00      1.00        17\n",
      "          60       1.00      1.00      1.00        16\n",
      "          61       1.00      0.89      0.94         9\n",
      "          62       0.94      1.00      0.97        17\n",
      "          64       1.00      1.00      1.00         4\n",
      "          66       1.00      1.00      1.00         7\n",
      "          67       1.00      1.00      1.00       106\n",
      "          68       1.00      1.00      1.00        13\n",
      "\n",
      "    accuracy                           1.00       571\n",
      "   macro avg       1.00      1.00      1.00       571\n",
      "weighted avg       1.00      1.00      1.00       571\n",
      "\n"
     ]
    }
   ],
   "source": [
    "from sklearn.metrics import classification_report\n",
    "print(classification_report(y_bagpred,y_test))"
   ]
  },
  {
   "cell_type": "markdown",
   "metadata": {},
   "source": [
    "## Model Building-Bagging vs Boosting using base estimator as Decision Tree with gini"
   ]
  },
  {
   "cell_type": "code",
   "execution_count": 48,
   "metadata": {},
   "outputs": [
    {
     "data": {
      "text/plain": [
       "DecisionTreeClassifier()"
      ]
     },
     "execution_count": 48,
     "metadata": {},
     "output_type": "execute_result"
    }
   ],
   "source": [
    "# to create the DT model - base estimator (gini)\n",
    "from sklearn.tree import DecisionTreeClassifier\n",
    "DTC_gini = DecisionTreeClassifier(criterion='gini') \n",
    "\n",
    "# train the classifier on training data\n",
    "DTC_gini.fit(x_train, y_train)"
   ]
  },
  {
   "cell_type": "code",
   "execution_count": 49,
   "metadata": {
    "scrolled": true
   },
   "outputs": [
    {
     "data": {
      "text/plain": [
       "array([49, 18,  5, 22, 60,  4, 51, 51,  4, 45, 36, 67, 67, 49, 50, 46, 58,\n",
       "        3, 56,  5, 67,  7, 33,  7, 44, 44, 67,  7, 56, 36, 30,  4,  5,  0,\n",
       "       67,  7, 56, 51, 36, 67, 62, 51,  0, 30, 28, 58,  3, 44, 36, 62, 25,\n",
       "       39, 16, 56, 60, 18,  7, 67, 60, 45, 18, 67,  5,  8, 39, 59, 26, 59,\n",
       "       44, 45, 36, 67, 56, 45, 45, 35, 66, 35,  3, 39, 36, 68, 45, 59, 67,\n",
       "       32, 45, 45, 22, 53,  6, 36, 60, 26, 18, 60,  3, 67, 32, 38, 67, 67,\n",
       "       16,  5,  9,  5, 59, 67, 16,  4, 60, 36, 44, 38,  4, 31, 45,  1, 68,\n",
       "       66, 31, 35, 45, 51, 62, 54, 60, 54, 50, 68,  5,  7, 22, 67, 30, 67,\n",
       "       61, 16,  5, 18, 45,  0, 51, 44, 54, 45, 62, 51, 59,  3, 67, 18, 25,\n",
       "       68, 57, 56,  4, 34, 44, 68, 58,  5, 16, 45, 35, 44, 67,  5, 67, 49,\n",
       "       45, 59, 18, 67,  5,  1, 67,  6, 45,  0, 56, 67, 67, 49, 43, 67, 67,\n",
       "       22,  1, 45,  5, 60, 49, 18,  3, 64,  5, 62, 39, 67, 49,  8, 45, 51,\n",
       "       67, 62, 67, 45, 30, 67, 68,  0,  0, 67, 60, 59, 59, 18, 45, 58, 44,\n",
       "       67,  0, 29, 67, 67, 44, 20, 45, 45,  3, 32, 62, 66, 67,  1, 45, 66,\n",
       "       45, 67,  5, 68, 67, 67, 43, 18, 67, 54, 54, 67, 67,  5, 67, 49,  7,\n",
       "       35, 67, 56, 50, 45, 67, 62, 32, 10, 67, 61, 26, 38, 44, 67, 36, 67,\n",
       "       45, 32, 68,  3,  5, 54,  5, 58, 21, 67, 64, 67, 59, 45, 67, 18, 45,\n",
       "       60, 50,  7, 44, 45, 67, 67, 50,  3, 61, 67, 29, 30, 44, 67,  5, 61,\n",
       "       28, 67, 15, 67, 30, 56, 67,  1, 40, 35, 45, 67, 32,  4, 67, 61, 31,\n",
       "        1,  7, 45, 62,  0, 67, 58,  4, 56, 45, 67, 23,  0, 46,  6, 60, 60,\n",
       "       67,  1, 45, 46, 67, 44, 56, 45, 18, 29,  5, 56, 50, 67, 25, 49, 28,\n",
       "       67, 49, 30, 67, 45,  1, 44,  5, 18, 62, 67, 67, 30, 38,  3, 46, 21,\n",
       "       61, 60, 32, 56, 25,  5, 36, 44,  7, 67, 62, 67, 32, 67,  5, 45, 44,\n",
       "       58, 35, 31, 61, 44, 44, 14, 67, 66, 67, 18, 67, 29, 47, 45,  4, 67,\n",
       "       59,  1, 67, 67, 67, 67, 62, 67, 59, 67, 44, 67, 54, 68, 12,  1, 44,\n",
       "       18, 59, 45,  7, 68, 62,  7, 56, 67,  1, 60, 67, 37, 44, 67, 59, 67,\n",
       "       44, 67, 44, 44, 31, 66,  1, 60, 68, 67, 45, 49, 16, 64, 18, 62,  4,\n",
       "        0, 56, 59,  9, 30, 44, 66, 67, 67,  5, 54,  7, 54, 44,  5, 18, 32,\n",
       "       12, 18, 62, 17, 62, 31, 67, 36, 45, 18,  3, 45, 53, 67, 44,  1, 62,\n",
       "        4,  7,  5, 67, 67, 39, 44, 32, 26, 67, 67, 32, 67, 33,  2, 56, 45,\n",
       "       67, 43, 64, 67, 62,  3, 29, 56, 36,  1, 36, 49, 44, 67, 38, 67, 67,\n",
       "       45, 56, 60, 44, 61, 44, 44, 43, 32, 32,  7, 54, 67, 45, 45, 67, 35,\n",
       "       68, 59, 56, 59, 67, 51, 41,  3,  2, 45, 45, 32, 45, 67, 49, 68, 44,\n",
       "       67, 59,  8, 10, 44,  7,  5, 45, 51, 12], dtype=int64)"
      ]
     },
     "execution_count": 49,
     "metadata": {},
     "output_type": "execute_result"
    }
   ],
   "source": [
    "y_pred = DTC_gini.predict(x_test)\n",
    "y_pred"
   ]
  },
  {
   "cell_type": "markdown",
   "metadata": {},
   "source": [
    "-----"
   ]
  },
  {
   "cell_type": "code",
   "execution_count": 50,
   "metadata": {},
   "outputs": [
    {
     "name": "stderr",
     "output_type": "stream",
     "text": [
      "C:\\Users\\MUJTABA\\anaconda3\\lib\\site-packages\\sklearn\\utils\\validation.py:72: DataConversionWarning: A column-vector y was passed when a 1d array was expected. Please change the shape of y to (n_samples, ), for example using ravel().\n",
      "  return f(**kwargs)\n"
     ]
    }
   ],
   "source": [
    "# to create boosting model\n",
    "\n",
    "from sklearn.ensemble import AdaBoostClassifier\n",
    "AdaBoost = AdaBoostClassifier(base_estimator = DTC_gini, n_estimators = 400, learning_rate = 1)\n",
    "\n",
    "boostmodel = AdaBoost.fit(x_train, y_train)"
   ]
  },
  {
   "cell_type": "code",
   "execution_count": 51,
   "metadata": {
    "scrolled": true
   },
   "outputs": [
    {
     "data": {
      "text/plain": [
       "array([49, 18,  5, 22, 60,  4, 51, 51,  4, 45, 36, 67, 67, 49, 50, 46, 58,\n",
       "        3, 56,  5, 67,  7, 33,  7, 44, 44, 67,  7, 56, 36, 30,  4,  5,  0,\n",
       "       67,  7, 56, 51, 36, 67, 62, 51,  0, 30, 28, 58,  3, 44, 36, 62, 25,\n",
       "       39, 16, 56, 60, 18,  7, 67, 60, 45, 18, 67,  5,  8, 39, 59, 26, 59,\n",
       "       44, 45, 36, 67, 56, 45, 45, 35, 66, 35,  3, 39, 36, 68, 45, 59, 67,\n",
       "       32, 45, 45, 22, 53,  6, 36, 60, 26, 18, 60,  3, 67, 32, 38, 67, 67,\n",
       "       16,  3,  9,  5, 59, 67, 16,  4, 60, 36, 44, 38,  4, 31, 45,  1, 68,\n",
       "       66, 31, 35, 45, 51, 62, 54, 60, 54, 50, 68,  5,  7, 22, 67, 30, 67,\n",
       "       61, 16,  5, 18, 45,  0, 51, 44, 54, 45, 62, 51, 59,  3, 67, 18, 25,\n",
       "       68, 57, 56,  4, 34, 44, 68, 58,  5, 16, 45, 35, 44, 67,  5, 67, 49,\n",
       "       45, 59, 18, 67,  5,  1, 67,  6, 45,  0, 56, 67, 67, 49, 43, 67, 67,\n",
       "       22,  1, 45,  5, 60, 49, 18,  3, 64,  5, 62, 39, 67, 49,  8, 45, 51,\n",
       "       67, 62, 67, 45, 30, 67, 68,  0,  0, 67, 60, 59, 59, 18, 45, 58, 44,\n",
       "       67,  0, 29, 67, 67, 44, 20, 45, 45,  3, 32, 62, 66, 67,  1, 45, 66,\n",
       "       45, 67,  5, 68, 67, 67, 43, 18, 67, 54, 54, 67, 67,  5, 67, 49,  7,\n",
       "       35, 67, 56, 50, 45, 67, 62, 32, 10, 67, 61, 26, 38, 44, 67, 36, 67,\n",
       "       45, 32, 68,  3,  5, 54,  5, 58, 21, 67, 64, 67, 59, 45, 67, 18, 45,\n",
       "       60, 50,  7, 44, 45, 67, 67, 50,  3, 61, 67, 29, 30, 44, 67,  5, 61,\n",
       "       28, 67, 15, 67, 30, 56, 67,  1, 40, 35, 45, 67, 32,  4, 67, 61, 31,\n",
       "        1,  7, 45, 62,  0, 67, 58,  4, 56, 45, 67, 23,  0, 46,  6, 60, 60,\n",
       "       67,  1, 45, 46, 67, 44, 56, 45, 18, 29,  5, 56, 50, 67, 25, 49, 28,\n",
       "       67, 49, 30, 67, 45,  1, 44,  5, 18, 62, 67, 67, 30, 38,  3, 46, 21,\n",
       "       61, 60, 32, 56, 25,  5, 36, 44,  7, 67, 62, 67, 32, 67,  5, 45, 44,\n",
       "       58, 35, 31, 61, 44, 44, 14, 67, 66, 67, 18, 67, 29, 49, 45,  4, 67,\n",
       "       59,  1, 67, 67, 67, 67, 62, 67, 59, 67, 44, 67, 54, 68, 12,  1, 44,\n",
       "       18, 59, 45,  7, 68, 62,  7, 56, 67,  1, 60, 67, 37, 44, 67, 59, 67,\n",
       "       44, 67, 44, 44, 31, 66,  1, 60, 68, 67, 45, 49, 16, 64, 18, 62,  4,\n",
       "        0, 56, 59,  9, 30, 44, 66, 67, 67,  5, 54,  7, 54, 44,  5, 32, 32,\n",
       "       12, 18, 62, 17, 62, 31, 67, 36, 45, 18,  3, 45, 53, 67, 44,  1, 62,\n",
       "        4,  7,  5, 67, 67, 39, 44, 32, 26, 67, 67, 32, 67, 33,  2, 56, 45,\n",
       "       67, 43, 64, 67, 62,  3, 29, 56, 36,  1, 36, 49, 44, 67, 38, 67, 67,\n",
       "       45, 56, 60, 44, 61, 44, 44, 43, 32, 32,  7, 54, 67, 45, 45, 67, 35,\n",
       "       68, 59, 56, 59, 67, 51, 41,  3,  2, 45, 45, 32, 45, 67, 49, 68, 44,\n",
       "       67, 59,  8, 10, 44,  7,  5, 45, 51, 12], dtype=int64)"
      ]
     },
     "execution_count": 51,
     "metadata": {},
     "output_type": "execute_result"
    }
   ],
   "source": [
    "y_boostpred = boostmodel.predict(x_test)\n",
    "y_boostpred"
   ]
  },
  {
   "cell_type": "code",
   "execution_count": 52,
   "metadata": {},
   "outputs": [
    {
     "data": {
      "text/plain": [
       "99.47460595446584"
      ]
     },
     "execution_count": 52,
     "metadata": {},
     "output_type": "execute_result"
    }
   ],
   "source": [
    "accuracy_score(y_boostpred, y_test)*100"
   ]
  },
  {
   "cell_type": "code",
   "execution_count": 53,
   "metadata": {},
   "outputs": [
    {
     "data": {
      "text/plain": [
       "array([[ 10,   0,   0, ...,   0,   0,   0],\n",
       "       [  0,  14,   0, ...,   0,   0,   0],\n",
       "       [  0,   0,   2, ...,   0,   0,   0],\n",
       "       ...,\n",
       "       [  0,   0,   0, ...,   7,   0,   0],\n",
       "       [  0,   0,   0, ...,   0, 106,   0],\n",
       "       [  0,   0,   0, ...,   0,   0,  13]], dtype=int64)"
      ]
     },
     "execution_count": 53,
     "metadata": {},
     "output_type": "execute_result"
    }
   ],
   "source": [
    "from sklearn.metrics import confusion_matrix\n",
    "cm = confusion_matrix(y_boostpred,y_test)\n",
    "cm"
   ]
  },
  {
   "cell_type": "code",
   "execution_count": 235,
   "metadata": {},
   "outputs": [
    {
     "data": {
      "text/plain": [
       "<AxesSubplot:>"
      ]
     },
     "execution_count": 235,
     "metadata": {},
     "output_type": "execute_result"
    },
    {
     "data": {
      "image/png": "[encoded data removed]",
      "text/plain": [
       "<Figure size 1440x1440 with 2 Axes>"
      ]
     },
     "metadata": {
      "needs_background": "light"
     },
     "output_type": "display_data"
    }
   ],
   "source": [
    "import matplotlib.pyplot as plt\n",
    "plt.figure(figsize=(20,20))\n",
    "import seaborn as sns\n",
    "sns.heatmap(cm, annot = True)"
   ]
  },
  {
   "cell_type": "code",
   "execution_count": 54,
   "metadata": {},
   "outputs": [
    {
     "name": "stdout",
     "output_type": "stream",
     "text": [
      "              precision    recall  f1-score   support\n",
      "\n",
      "           0       1.00      1.00      1.00        10\n",
      "           1       1.00      1.00      1.00        14\n",
      "           2       1.00      1.00      1.00         2\n",
      "           3       1.00      1.00      1.00        14\n",
      "           4       1.00      1.00      1.00        11\n",
      "           5       1.00      1.00      1.00        25\n",
      "           6       1.00      1.00      1.00         3\n",
      "           7       1.00      1.00      1.00        16\n",
      "           8       1.00      1.00      1.00         3\n",
      "           9       1.00      1.00      1.00         2\n",
      "          10       1.00      1.00      1.00         2\n",
      "          12       1.00      1.00      1.00         3\n",
      "          14       1.00      1.00      1.00         1\n",
      "          15       1.00      1.00      1.00         1\n",
      "          16       0.86      1.00      0.92         6\n",
      "          17       1.00      1.00      1.00         1\n",
      "          18       1.00      1.00      1.00        18\n",
      "          19       0.00      0.00      0.00         0\n",
      "          20       1.00      1.00      1.00         1\n",
      "          21       1.00      1.00      1.00         2\n",
      "          22       1.00      1.00      1.00         4\n",
      "          23       1.00      1.00      1.00         1\n",
      "          25       1.00      1.00      1.00         4\n",
      "          26       1.00      1.00      1.00         4\n",
      "          28       1.00      1.00      1.00         3\n",
      "          29       1.00      1.00      1.00         5\n",
      "          30       1.00      1.00      1.00         9\n",
      "          31       1.00      1.00      1.00         6\n",
      "          32       1.00      0.93      0.97        15\n",
      "          33       1.00      1.00      1.00         2\n",
      "          34       1.00      1.00      1.00         1\n",
      "          35       1.00      1.00      1.00         8\n",
      "          36       1.00      1.00      1.00        13\n",
      "          37       1.00      1.00      1.00         1\n",
      "          38       1.00      1.00      1.00         5\n",
      "          39       1.00      1.00      1.00         5\n",
      "          40       1.00      1.00      1.00         1\n",
      "          41       1.00      1.00      1.00         1\n",
      "          43       1.00      0.75      0.86         4\n",
      "          44       1.00      1.00      1.00        35\n",
      "          45       1.00      1.00      1.00        48\n",
      "          46       1.00      1.00      1.00         4\n",
      "          49       1.00      1.00      1.00        13\n",
      "          50       1.00      1.00      1.00         6\n",
      "          51       0.91      1.00      0.95        10\n",
      "          53       1.00      1.00      1.00         2\n",
      "          54       1.00      1.00      1.00        10\n",
      "          56       1.00      0.95      0.97        19\n",
      "          57       1.00      1.00      1.00         1\n",
      "          58       1.00      1.00      1.00         7\n",
      "          59       1.00      1.00      1.00        17\n",
      "          60       1.00      1.00      1.00        16\n",
      "          61       1.00      1.00      1.00         8\n",
      "          62       1.00      1.00      1.00        18\n",
      "          64       1.00      1.00      1.00         4\n",
      "          66       1.00      1.00      1.00         7\n",
      "          67       1.00      1.00      1.00       106\n",
      "          68       1.00      1.00      1.00        13\n",
      "\n",
      "    accuracy                           0.99       571\n",
      "   macro avg       0.98      0.98      0.98       571\n",
      "weighted avg       1.00      0.99      1.00       571\n",
      "\n"
     ]
    },
    {
     "name": "stderr",
     "output_type": "stream",
     "text": [
      "C:\\Users\\MUJTABA\\anaconda3\\lib\\site-packages\\sklearn\\metrics\\_classification.py:1221: UndefinedMetricWarning: Recall and F-score are ill-defined and being set to 0.0 in labels with no true samples. Use `zero_division` parameter to control this behavior.\n",
      "  _warn_prf(average, modifier, msg_start, len(result))\n"
     ]
    }
   ],
   "source": [
    "from sklearn.metrics import classification_report\n",
    "print(classification_report(y_boostpred,y_test))"
   ]
  },
  {
   "cell_type": "markdown",
   "metadata": {},
   "source": [
    "--------"
   ]
  },
  {
   "cell_type": "code",
   "execution_count": 55,
   "metadata": {},
   "outputs": [
    {
     "name": "stderr",
     "output_type": "stream",
     "text": [
      "C:\\Users\\MUJTABA\\anaconda3\\lib\\site-packages\\sklearn\\utils\\validation.py:72: DataConversionWarning: A column-vector y was passed when a 1d array was expected. Please change the shape of y to (n_samples, ), for example using ravel().\n",
      "  return f(**kwargs)\n"
     ]
    },
    {
     "data": {
      "text/plain": [
       "BaggingClassifier(base_estimator=DecisionTreeClassifier(), max_samples=0.8,\n",
       "                  n_estimators=400, oob_score=True, random_state=0)"
      ]
     },
     "execution_count": 55,
     "metadata": {},
     "output_type": "execute_result"
    }
   ],
   "source": [
    "# to create bagging model\n",
    "\n",
    "from sklearn.ensemble import BaggingClassifier\n",
    "Bag = BaggingClassifier(base_estimator = DTC_gini, n_estimators = 400, max_samples = 0.8, oob_score = True, random_state = 0)\n",
    "\n",
    "Bag.fit(x_train, y_train)"
   ]
  },
  {
   "cell_type": "code",
   "execution_count": 56,
   "metadata": {
    "scrolled": true
   },
   "outputs": [
    {
     "data": {
      "text/plain": [
       "array([49, 18,  5, 22, 60,  4, 51, 51,  4, 45, 36, 67, 67, 49, 50, 46, 58,\n",
       "        3, 56,  5, 67,  7, 33,  7, 44, 44, 67,  7, 56, 36, 30,  4,  5,  0,\n",
       "       67,  7, 56, 51, 36, 67, 62, 51,  0, 30, 28, 58,  3, 44, 36, 62, 25,\n",
       "       39, 16, 56, 60, 18,  7, 67, 60, 45, 18, 67,  5,  8, 39, 59, 26, 59,\n",
       "       44, 45, 36, 67, 56, 45, 45, 35, 66, 35,  3, 39, 36, 68, 45, 59, 67,\n",
       "       32, 45, 45, 22, 53,  6, 36, 60, 26, 18, 60,  3, 67, 32, 38, 67, 67,\n",
       "       16,  3,  9,  5, 59, 67, 16,  4, 60, 36, 44, 38,  4, 31, 45,  1, 68,\n",
       "       66, 31, 35, 45, 51, 62, 54, 60, 54, 50, 68,  5,  7, 22, 67, 30, 67,\n",
       "       61, 16,  5, 18, 45,  0, 51, 44, 54, 45, 62, 51, 59,  3, 67, 18, 25,\n",
       "       68, 57, 56,  4, 34, 44, 68, 58,  5, 16, 45, 35, 44, 67,  5, 67, 49,\n",
       "       45, 59, 18, 67,  5,  1, 67,  6, 45,  0, 56, 67, 67, 49, 43, 67, 67,\n",
       "       22,  1, 45,  5, 60, 49, 18,  3, 64,  5, 62, 39, 67, 49,  8, 45, 51,\n",
       "       67, 62, 67, 45, 30, 67, 68,  0,  0, 67, 60, 59, 59, 18, 45, 58, 44,\n",
       "       67,  0, 29, 67, 67, 44, 20, 45, 45,  3, 32, 62, 66, 67,  1, 45, 66,\n",
       "       45, 67,  5, 68, 67, 67, 43, 18, 67, 54, 54, 67, 67,  5, 67, 49,  7,\n",
       "       35, 67, 56, 50, 45, 67, 62, 32, 10, 67, 61, 26, 38, 44, 67, 36, 67,\n",
       "       45, 32, 68,  3,  5, 54,  5, 58, 21, 67, 64, 67, 59, 45, 67, 18, 45,\n",
       "       60, 50,  7, 44, 45, 67, 67, 50,  3, 61, 67, 29, 30, 44, 67,  5, 61,\n",
       "       28, 67, 15, 67, 30, 56, 67,  1, 40, 35, 45, 67, 32,  4, 67, 61, 31,\n",
       "        1,  7, 45, 62,  0, 67, 58,  4, 51, 45, 67, 23,  0, 46,  6, 60, 60,\n",
       "       67,  1, 45, 46, 67, 44, 56, 45, 18, 29,  5, 56, 50, 67, 25, 49, 28,\n",
       "       67, 49, 30, 67, 45,  1, 44,  5, 18, 62, 67, 67, 30, 38,  3, 46, 21,\n",
       "       61, 60, 32, 56, 25,  5, 36, 44,  7, 67, 62, 67, 32, 67,  5, 45, 44,\n",
       "       58, 35, 31, 61, 44, 44, 14, 67, 66, 67, 18, 67, 29, 49, 45,  4, 67,\n",
       "       59,  1, 67, 67, 67, 67, 62, 67, 59, 67, 44, 67, 54, 68, 12,  1, 44,\n",
       "       18, 59, 45,  7, 68, 62,  7, 56, 67,  1, 60, 67, 37, 44, 67, 59, 67,\n",
       "       44, 67, 44, 44, 31, 66,  1, 60, 68, 67, 45, 49, 16, 64, 18, 62,  4,\n",
       "        0, 56, 59,  9, 30, 44, 66, 67, 67,  5, 54,  7, 54, 44,  5, 32, 32,\n",
       "       12, 18, 62, 17, 62, 31, 67, 36, 45, 18,  3, 45, 53, 67, 44,  1, 62,\n",
       "        4,  7,  5, 67, 67, 39, 44, 32, 26, 67, 67, 32, 67, 33,  2, 56, 45,\n",
       "       67, 43, 64, 67, 62,  3, 29, 56, 36,  1, 36, 49, 44, 67, 38, 67, 67,\n",
       "       45, 56, 60, 44, 61, 44, 44, 16, 32, 19,  7, 54, 67, 45, 45, 67, 35,\n",
       "       68, 59, 56, 59, 67, 51, 41,  3,  2, 45, 45, 32, 45, 67, 49, 68, 44,\n",
       "       67, 59,  8, 10, 44,  7,  5, 45, 51, 12], dtype=int64)"
      ]
     },
     "execution_count": 56,
     "metadata": {},
     "output_type": "execute_result"
    }
   ],
   "source": [
    "y_bagpred = Bag.predict(x_test)\n",
    "y_bagpred"
   ]
  },
  {
   "cell_type": "code",
   "execution_count": 57,
   "metadata": {},
   "outputs": [
    {
     "data": {
      "text/plain": [
       "100.0"
      ]
     },
     "execution_count": 57,
     "metadata": {},
     "output_type": "execute_result"
    }
   ],
   "source": [
    "accuracy_score(y_bagpred, y_test)*100"
   ]
  },
  {
   "cell_type": "code",
   "execution_count": 58,
   "metadata": {},
   "outputs": [
    {
     "data": {
      "text/plain": [
       "array([[ 10,   0,   0, ...,   0,   0,   0],\n",
       "       [  0,  14,   0, ...,   0,   0,   0],\n",
       "       [  0,   0,   2, ...,   0,   0,   0],\n",
       "       ...,\n",
       "       [  0,   0,   0, ...,   7,   0,   0],\n",
       "       [  0,   0,   0, ...,   0, 106,   0],\n",
       "       [  0,   0,   0, ...,   0,   0,  13]], dtype=int64)"
      ]
     },
     "execution_count": 58,
     "metadata": {},
     "output_type": "execute_result"
    }
   ],
   "source": [
    "from sklearn.metrics import confusion_matrix\n",
    "cm = confusion_matrix(y_bagpred,y_test)\n",
    "cm"
   ]
  },
  {
   "cell_type": "code",
   "execution_count": 241,
   "metadata": {},
   "outputs": [
    {
     "data": {
      "text/plain": [
       "<AxesSubplot:>"
      ]
     },
     "execution_count": 241,
     "metadata": {},
     "output_type": "execute_result"
    },
    {
     "data": {
      "image/png": "[encoded data removed]",
      "text/plain": [
       "<Figure size 1440x1440 with 2 Axes>"
      ]
     },
     "metadata": {
      "needs_background": "light"
     },
     "output_type": "display_data"
    }
   ],
   "source": [
    "import matplotlib.pyplot as plt\n",
    "plt.figure(figsize=(20,20))\n",
    "import seaborn as sns\n",
    "sns.heatmap(cm, annot = True)"
   ]
  },
  {
   "cell_type": "code",
   "execution_count": 59,
   "metadata": {},
   "outputs": [
    {
     "name": "stdout",
     "output_type": "stream",
     "text": [
      "              precision    recall  f1-score   support\n",
      "\n",
      "           0       1.00      1.00      1.00        10\n",
      "           1       1.00      1.00      1.00        14\n",
      "           2       1.00      1.00      1.00         2\n",
      "           3       1.00      1.00      1.00        14\n",
      "           4       1.00      1.00      1.00        11\n",
      "           5       1.00      1.00      1.00        25\n",
      "           6       1.00      1.00      1.00         3\n",
      "           7       1.00      1.00      1.00        16\n",
      "           8       1.00      1.00      1.00         3\n",
      "           9       1.00      1.00      1.00         2\n",
      "          10       1.00      1.00      1.00         2\n",
      "          12       1.00      1.00      1.00         3\n",
      "          14       1.00      1.00      1.00         1\n",
      "          15       1.00      1.00      1.00         1\n",
      "          16       1.00      1.00      1.00         7\n",
      "          17       1.00      1.00      1.00         1\n",
      "          18       1.00      1.00      1.00        18\n",
      "          19       1.00      1.00      1.00         1\n",
      "          20       1.00      1.00      1.00         1\n",
      "          21       1.00      1.00      1.00         2\n",
      "          22       1.00      1.00      1.00         4\n",
      "          23       1.00      1.00      1.00         1\n",
      "          25       1.00      1.00      1.00         4\n",
      "          26       1.00      1.00      1.00         4\n",
      "          28       1.00      1.00      1.00         3\n",
      "          29       1.00      1.00      1.00         5\n",
      "          30       1.00      1.00      1.00         9\n",
      "          31       1.00      1.00      1.00         6\n",
      "          32       1.00      1.00      1.00        14\n",
      "          33       1.00      1.00      1.00         2\n",
      "          34       1.00      1.00      1.00         1\n",
      "          35       1.00      1.00      1.00         8\n",
      "          36       1.00      1.00      1.00        13\n",
      "          37       1.00      1.00      1.00         1\n",
      "          38       1.00      1.00      1.00         5\n",
      "          39       1.00      1.00      1.00         5\n",
      "          40       1.00      1.00      1.00         1\n",
      "          41       1.00      1.00      1.00         1\n",
      "          43       1.00      1.00      1.00         3\n",
      "          44       1.00      1.00      1.00        35\n",
      "          45       1.00      1.00      1.00        48\n",
      "          46       1.00      1.00      1.00         4\n",
      "          49       1.00      1.00      1.00        13\n",
      "          50       1.00      1.00      1.00         6\n",
      "          51       1.00      1.00      1.00        11\n",
      "          53       1.00      1.00      1.00         2\n",
      "          54       1.00      1.00      1.00        10\n",
      "          56       1.00      1.00      1.00        18\n",
      "          57       1.00      1.00      1.00         1\n",
      "          58       1.00      1.00      1.00         7\n",
      "          59       1.00      1.00      1.00        17\n",
      "          60       1.00      1.00      1.00        16\n",
      "          61       1.00      1.00      1.00         8\n",
      "          62       1.00      1.00      1.00        18\n",
      "          64       1.00      1.00      1.00         4\n",
      "          66       1.00      1.00      1.00         7\n",
      "          67       1.00      1.00      1.00       106\n",
      "          68       1.00      1.00      1.00        13\n",
      "\n",
      "    accuracy                           1.00       571\n",
      "   macro avg       1.00      1.00      1.00       571\n",
      "weighted avg       1.00      1.00      1.00       571\n",
      "\n"
     ]
    }
   ],
   "source": [
    "from sklearn.metrics import classification_report\n",
    "print(classification_report(y_bagpred,y_test))"
   ]
  },
  {
   "cell_type": "code",
   "execution_count": null,
   "metadata": {},
   "outputs": [],
   "source": []
  }
 ],
 "metadata": {
  "kernelspec": {
   "display_name": "Python 3",
   "language": "python",
   "name": "python3"
  },
  "language_info": {
   "codemirror_mode": {
    "name": "ipython",
    "version": 3
   },
   "file_extension": ".py",
   "mimetype": "text/x-python",
   "name": "python",
   "nbconvert_exporter": "python",
   "pygments_lexer": "ipython3",
   "version": "3.8.5"
  }
 },
 "nbformat": 4,
 "nbformat_minor": 4
}
